{
 "cells": [
  {
   "cell_type": "code",
   "execution_count": 1,
   "metadata": {},
   "outputs": [],
   "source": [
    "import numpy as np\n",
    "import pandas as pd\n",
    "import joblib\n",
    "from sklearn.model_selection import train_test_split\n",
    "from sklearn.preprocessing import MultiLabelBinarizer\n",
    "from sklearn.linear_model import LogisticRegression\n",
    "from sklearn.multiclass import OneVsRestClassifier\n",
    "from sklearn.metrics import f1_score\n",
    "from sklearn.pipeline import Pipeline\n",
    "from sklearn.feature_extraction.text import CountVectorizer\n",
    "from sklearn.feature_extraction.text import TfidfVectorizer\n",
    "patients = pd.read_csv('/Users/yousef/Downloads/RobotDoc-main 3/db/admissions.csv')"
   ]
  },
  {
   "cell_type": "code",
   "execution_count": 2,
   "metadata": {},
   "outputs": [],
   "source": [
    "symptoms = patients['symptoms']\n",
    "diagnoses = patients['diagnoses']\n",
    "X = pd.concat([symptoms, diagnoses] , axis=1)\n",
    "X = X[X['symptoms'].notna()]\n",
    "X = X.replace(np.nan, '', regex=True)\n",
    "X['symptoms'] = X['symptoms'].apply(lambda x: str(x).split(';'))\n",
    "X['symptoms'] = X['symptoms'].apply(lambda x: ' '.join(x))"
   ]
  },
  {
   "cell_type": "code",
   "execution_count": 3,
   "metadata": {},
   "outputs": [
    {
     "name": "stdout",
     "output_type": "stream",
     "text": [
      "          0030  0031  0038  0041  0051  00581  0059  0071  0074  ...  99932  \\\n",
      "0      0     0     0     0     0     0      0     0     0     0  ...      0   \n",
      "1      0     0     0     0     0     0      0     0     0     0  ...      0   \n",
      "2      0     0     0     0     0     0      0     0     0     0  ...      0   \n",
      "3      0     0     0     0     0     0      0     0     0     0  ...      0   \n",
      "4      0     0     0     0     0     0      0     0     0     0  ...      0   \n",
      "...   ..   ...   ...   ...   ...   ...    ...   ...   ...   ...  ...    ...   \n",
      "26334  0     0     0     0     0     0      0     0     0     0  ...      0   \n",
      "26335  0     0     0     0     0     0      0     0     0     0  ...      0   \n",
      "26336  0     0     0     0     0     0      0     0     0     0  ...      0   \n",
      "26337  0     0     0     0     0     0      0     0     0     0  ...      0   \n",
      "26338  0     0     0     0     0     0      0     0     0     0  ...      0   \n",
      "\n",
      "       99933  99939  99941  9995  9998  99982  99984  99989  9999  \n",
      "0          0      0      0     0     0      0      0      0     0  \n",
      "1          0      0      0     0     0      0      0      0     0  \n",
      "2          0      0      0     0     0      0      0      0     0  \n",
      "3          0      0      0     0     0      0      0      0     0  \n",
      "4          0      0      0     0     0      0      0      0     0  \n",
      "...      ...    ...    ...   ...   ...    ...    ...    ...   ...  \n",
      "26334      0      0      0     0     0      0      0      0     0  \n",
      "26335      0      0      0     0     0      0      0      0     0  \n",
      "26336      0      0      0     0     0      0      0      0     0  \n",
      "26337      0      0      0     0     0      0      0      0     0  \n",
      "26338      0      0      0     0     0      0      0      0     0  \n",
      "\n",
      "[26339 rows x 4121 columns]\n"
     ]
    }
   ],
   "source": [
    "z = X['diagnoses']\n",
    "mlb = MultiLabelBinarizer(sparse_output=True)\n",
    "diagnoses = pd.DataFrame.sparse.from_spmatrix(mlb.fit_transform(z.str.split(';')),\n",
    "                                          columns=mlb.classes_)\n",
    "\n",
    "mlb = MultiLabelBinarizer(sparse_output=True, classes = mlb.classes_)\n",
    "diagnoses = pd.DataFrame.sparse.from_spmatrix(mlb.fit_transform(z.str.split(';')),\n",
    "                                          columns=mlb.classes_)\n",
    "joblib.dump(mlb, \"/Users/yousef/Downloads/RobotDoc-main/encoders/diagnoses_enc.pkl\")\n",
    "print(diagnoses)\n",
    "\n",
    "\n",
    "\n"
   ]
  },
  {
   "cell_type": "code",
   "execution_count": 5,
   "metadata": {},
   "outputs": [
    {
     "data": {
      "text/plain": [
       "Pipeline(steps=[('vectorizer', CountVectorizer()),\n",
       "                ('clf',\n",
       "                 OneVsRestClassifier(estimator=LogisticRegression(solver='sag'),\n",
       "                                     n_jobs=-1))])"
      ]
     },
     "execution_count": 5,
     "metadata": {},
     "output_type": "execute_result"
    }
   ],
   "source": [
    "xtrain, xval, ytrain, yval = train_test_split(X['symptoms'], diagnoses, test_size=0.2, random_state=99)\n",
    "\n",
    "vectorizer = CountVectorizer()\n",
    "\n",
    "LogReg_pipeline = Pipeline([\n",
    "    ('vectorizer', vectorizer),\n",
    "    ('clf', OneVsRestClassifier(LogisticRegression(solver='sag'), \n",
    "                                n_jobs=-1))\n",
    "                           ])\n",
    "\n",
    "LogReg_pipeline.fit(xtrain, ytrain)"
   ]
  },
  {
   "cell_type": "code",
   "execution_count": 10,
   "metadata": {},
   "outputs": [
    {
     "data": {
      "text/plain": [
       "['/Users/yousef/Downloads/RobotDoc-main/encoders/LogReg_pipeline.joblib']"
      ]
     },
     "execution_count": 10,
     "metadata": {},
     "output_type": "execute_result"
    }
   ],
   "source": [
    "joblib.dump(LogReg_pipeline, '/Users/yousef/Downloads/RobotDoc-main/encoders/LogReg_pipeline.joblib') "
   ]
  },
  {
   "cell_type": "code",
   "execution_count": 6,
   "metadata": {},
   "outputs": [],
   "source": [
    "y_pred = LogReg_pipeline.predict(xval)"
   ]
  },
  {
   "cell_type": "code",
   "execution_count": 7,
   "metadata": {},
   "outputs": [
    {
     "data": {
      "text/plain": [
       "0.07164218129524619"
      ]
     },
     "execution_count": 7,
     "metadata": {},
     "output_type": "execute_result"
    }
   ],
   "source": [
    "f1_score(yval, y_pred, average=\"micro\")"
   ]
  },
  {
   "cell_type": "code",
   "execution_count": 8,
   "metadata": {},
   "outputs": [
    {
     "data": {
      "text/plain": [
       "0.2480447650160106"
      ]
     },
     "execution_count": 8,
     "metadata": {},
     "output_type": "execute_result"
    }
   ],
   "source": [
    "y_pred_prob = LogReg_pipeline.predict_proba(xval)\n",
    "t = 0.1\n",
    "# threshold value\n",
    "y_pred_new = (y_pred_prob >= t).astype(int)\n",
    "f1_score(yval, y_pred_new, average=\"micro\")"
   ]
  },
  {
   "cell_type": "code",
   "execution_count": 9,
   "metadata": {},
   "outputs": [
    {
     "name": "stdout",
     "output_type": "stream",
     "text": [
      "Predicted\n",
      "('0389', '2449', '25000', '2639', '2753', '2761', '2762', '2767', '2851', '2859', '2875', '2930', '311', '4019', '40390', '40391', '4168', '42731', '42789', '4280', '486', '49390', '5119', '51881', '53081', '53789', '5601', '5715', '5722', '5723', '5845', '5849', '5856', '5859', '5990', '6826', '99591', '99592', '99731')\n",
      "-----------------------------------------------\n",
      "expected\n",
      "('0389', '2753', '2760', '2761', '2768', '2819', '2869', '2875', '2910', '30391', '3051', '570', '5711', '5712', '5722', '57420', '5770', '5990', '99591')\n"
     ]
    }
   ],
   "source": [
    "print(\"Predicted\")\n",
    "print(mlb.inverse_transform(y_pred_new)[7])\n",
    "print(\"-----------------------------------------------\")\n",
    "print(\"expected\")\n",
    "print(mlb.inverse_transform(yval.to_numpy())[7])"
   ]
  },
  {
   "cell_type": "code",
   "execution_count": null,
   "metadata": {},
   "outputs": [],
   "source": []
  }
 ],
 "metadata": {
  "kernelspec": {
   "display_name": "Python 3",
   "language": "python",
   "name": "python3"
  },
  "language_info": {
   "codemirror_mode": {
    "name": "ipython",
    "version": 3
   },
   "file_extension": ".py",
   "mimetype": "text/x-python",
   "name": "python",
   "nbconvert_exporter": "python",
   "pygments_lexer": "ipython3",
   "version": "3.7.9"
  }
 },
 "nbformat": 4,
 "nbformat_minor": 4
}
