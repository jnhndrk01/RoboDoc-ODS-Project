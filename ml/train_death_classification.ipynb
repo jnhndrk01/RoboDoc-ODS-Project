{
 "cells": [
  {
   "cell_type": "code",
   "execution_count": 15,
   "metadata": {
    "id": "J7zC4c7b6J4N"
   },
   "outputs": [],
   "source": [
    "import tensorflow as tf\n",
    "from tensorflow import keras\n",
    "\n",
    "import os\n",
    "from os import path\n",
    "import tempfile\n",
    "import time\n",
    "\n",
    "import matplotlib as mpl\n",
    "import matplotlib.pyplot as plt\n",
    "import numpy as np\n",
    "\n",
    "import pandas as pd\n",
    "pd.options.mode.chained_assignment = None\n",
    "\n",
    "import seaborn as sns\n",
    "\n",
    "import sklearn\n",
    "\n",
    "from sklearn.metrics import confusion_matrix\n",
    "from sklearn.model_selection import train_test_split\n",
    "from sklearn.preprocessing import StandardScaler"
   ]
  },
  {
   "cell_type": "code",
   "execution_count": 16,
   "metadata": {
    "id": "NQkDxBd56SHA"
   },
   "outputs": [],
   "source": [
    "mpl.rcParams['figure.figsize'] = (12, 10)\n",
    "colors = plt.rcParams['axes.prop_cycle'].by_key()['color']"
   ]
  },
  {
   "cell_type": "markdown",
   "metadata": {
    "id": "5xZIvr8w60yO"
   },
   "source": [
    "### DataFrame name:"
   ]
  },
  {
   "cell_type": "code",
   "execution_count": 17,
   "metadata": {
    "id": "2uZlSH5m64So"
   },
   "outputs": [],
   "source": [
    "df_name = \"95\"\n",
    "layer1nodes = 256\n",
    "prefix = \"dih\"\n",
    "\n",
    "data_path = \"../../RoboDocData\"\n",
    "\n",
    "df_path = f\"{data_path}/{df_name}\"\n",
    "\n",
    "model_name = f\"df{df_name}_{prefix}_n{layer1nodes}{prefix}\"\n",
    "\n",
    "model_path = f\"{df_path}/{model_name}\"\n",
    "\n",
    "if path.exists(model_path) == False:\n",
    "    os.makedirs(model_path)"
   ]
  },
  {
   "cell_type": "code",
   "execution_count": 18,
   "metadata": {
    "id": "MyYeWl-H6WKH"
   },
   "outputs": [],
   "source": [
    "df = pd.read_pickle(f\"{df_path}/dataframe_{df_name}.pkl\")"
   ]
  },
  {
   "cell_type": "code",
   "execution_count": 19,
   "metadata": {
    "colab": {
     "base_uri": "https://localhost:8080/",
     "height": 247
    },
    "id": "Pds9G-D06ulg",
    "outputId": "ca022d9a-920f-45a8-c5f3-ca9eede138d8"
   },
   "outputs": [
    {
     "data": {
      "text/html": [
       "<div>\n",
       "<style scoped>\n",
       "    .dataframe tbody tr th:only-of-type {\n",
       "        vertical-align: middle;\n",
       "    }\n",
       "\n",
       "    .dataframe tbody tr th {\n",
       "        vertical-align: top;\n",
       "    }\n",
       "\n",
       "    .dataframe thead th {\n",
       "        text-align: right;\n",
       "    }\n",
       "</style>\n",
       "<table border=\"1\" class=\"dataframe\">\n",
       "  <thead>\n",
       "    <tr style=\"text-align: right;\">\n",
       "      <th></th>\n",
       "      <th>age</th>\n",
       "      <th>gender</th>\n",
       "      <th>weight</th>\n",
       "      <th>height</th>\n",
       "      <th>heartrate_mean</th>\n",
       "      <th>heartrate_min</th>\n",
       "      <th>heartrate_max</th>\n",
       "      <th>meanbp_mean</th>\n",
       "      <th>meanbp_min</th>\n",
       "      <th>meanbp_max</th>\n",
       "      <th>...</th>\n",
       "      <th>1431</th>\n",
       "      <th>1432</th>\n",
       "      <th>1433</th>\n",
       "      <th>1434</th>\n",
       "      <th>1435</th>\n",
       "      <th>1436</th>\n",
       "      <th>1437</th>\n",
       "      <th>length_of_stay_hospital</th>\n",
       "      <th>days_to_death</th>\n",
       "      <th>died_in_hospital</th>\n",
       "    </tr>\n",
       "  </thead>\n",
       "  <tbody>\n",
       "    <tr>\n",
       "      <th>0</th>\n",
       "      <td>-0.314330</td>\n",
       "      <td>0.882636</td>\n",
       "      <td>0.708665</td>\n",
       "      <td>5.790713e-01</td>\n",
       "      <td>-1.493856</td>\n",
       "      <td>-1.464808</td>\n",
       "      <td>-1.130006</td>\n",
       "      <td>0.793347</td>\n",
       "      <td>-0.182277</td>\n",
       "      <td>1.785616</td>\n",
       "      <td>...</td>\n",
       "      <td>-0.241905</td>\n",
       "      <td>0.234796</td>\n",
       "      <td>-1.463301</td>\n",
       "      <td>0.316636</td>\n",
       "      <td>0.096879</td>\n",
       "      <td>-0.041458</td>\n",
       "      <td>0.017039</td>\n",
       "      <td>10.61</td>\n",
       "      <td>95.0</td>\n",
       "      <td>0</td>\n",
       "    </tr>\n",
       "    <tr>\n",
       "      <th>1</th>\n",
       "      <td>0.435417</td>\n",
       "      <td>0.882636</td>\n",
       "      <td>0.477729</td>\n",
       "      <td>5.790713e-01</td>\n",
       "      <td>-0.465692</td>\n",
       "      <td>-0.262796</td>\n",
       "      <td>-0.790516</td>\n",
       "      <td>-0.181278</td>\n",
       "      <td>0.478175</td>\n",
       "      <td>-0.339818</td>\n",
       "      <td>...</td>\n",
       "      <td>0.056008</td>\n",
       "      <td>0.035746</td>\n",
       "      <td>0.067434</td>\n",
       "      <td>0.164758</td>\n",
       "      <td>0.163697</td>\n",
       "      <td>0.014653</td>\n",
       "      <td>0.172129</td>\n",
       "      <td>6.33</td>\n",
       "      <td>NaN</td>\n",
       "      <td>0</td>\n",
       "    </tr>\n",
       "    <tr>\n",
       "      <th>2</th>\n",
       "      <td>0.608435</td>\n",
       "      <td>-1.132970</td>\n",
       "      <td>-0.815515</td>\n",
       "      <td>-1.125388e+00</td>\n",
       "      <td>0.112650</td>\n",
       "      <td>0.338209</td>\n",
       "      <td>-0.499524</td>\n",
       "      <td>-0.092675</td>\n",
       "      <td>-0.035510</td>\n",
       "      <td>-0.223885</td>\n",
       "      <td>...</td>\n",
       "      <td>0.688281</td>\n",
       "      <td>0.089604</td>\n",
       "      <td>0.726467</td>\n",
       "      <td>-0.448798</td>\n",
       "      <td>0.239834</td>\n",
       "      <td>-0.491586</td>\n",
       "      <td>0.892078</td>\n",
       "      <td>15.08</td>\n",
       "      <td>23.0</td>\n",
       "      <td>0</td>\n",
       "    </tr>\n",
       "    <tr>\n",
       "      <th>3</th>\n",
       "      <td>-0.487348</td>\n",
       "      <td>-1.132970</td>\n",
       "      <td>-0.122706</td>\n",
       "      <td>-7.844964e-01</td>\n",
       "      <td>1.140814</td>\n",
       "      <td>1.273107</td>\n",
       "      <td>0.373451</td>\n",
       "      <td>-0.801493</td>\n",
       "      <td>-0.108893</td>\n",
       "      <td>-0.378462</td>\n",
       "      <td>...</td>\n",
       "      <td>0.048942</td>\n",
       "      <td>0.013810</td>\n",
       "      <td>0.439313</td>\n",
       "      <td>0.179242</td>\n",
       "      <td>-0.366903</td>\n",
       "      <td>-0.036327</td>\n",
       "      <td>0.091954</td>\n",
       "      <td>2.73</td>\n",
       "      <td>2.0</td>\n",
       "      <td>1</td>\n",
       "    </tr>\n",
       "    <tr>\n",
       "      <th>4</th>\n",
       "      <td>0.839126</td>\n",
       "      <td>0.882636</td>\n",
       "      <td>1.724785</td>\n",
       "      <td>-3.229577e-15</td>\n",
       "      <td>-1.236815</td>\n",
       "      <td>-1.264473</td>\n",
       "      <td>-1.178505</td>\n",
       "      <td>-1.333107</td>\n",
       "      <td>-1.429796</td>\n",
       "      <td>-1.035414</td>\n",
       "      <td>...</td>\n",
       "      <td>1.816632</td>\n",
       "      <td>0.600472</td>\n",
       "      <td>-2.021090</td>\n",
       "      <td>-0.526086</td>\n",
       "      <td>1.608330</td>\n",
       "      <td>-1.489185</td>\n",
       "      <td>0.580750</td>\n",
       "      <td>2.79</td>\n",
       "      <td>489.0</td>\n",
       "      <td>0</td>\n",
       "    </tr>\n",
       "  </tbody>\n",
       "</table>\n",
       "<p>5 rows × 1506 columns</p>\n",
       "</div>"
      ],
      "text/plain": [
       "        age    gender    weight        height  heartrate_mean  heartrate_min  \\\n",
       "0 -0.314330  0.882636  0.708665  5.790713e-01       -1.493856      -1.464808   \n",
       "1  0.435417  0.882636  0.477729  5.790713e-01       -0.465692      -0.262796   \n",
       "2  0.608435 -1.132970 -0.815515 -1.125388e+00        0.112650       0.338209   \n",
       "3 -0.487348 -1.132970 -0.122706 -7.844964e-01        1.140814       1.273107   \n",
       "4  0.839126  0.882636  1.724785 -3.229577e-15       -1.236815      -1.264473   \n",
       "\n",
       "   heartrate_max  meanbp_mean  meanbp_min  meanbp_max  ...      1431  \\\n",
       "0      -1.130006     0.793347   -0.182277    1.785616  ... -0.241905   \n",
       "1      -0.790516    -0.181278    0.478175   -0.339818  ...  0.056008   \n",
       "2      -0.499524    -0.092675   -0.035510   -0.223885  ...  0.688281   \n",
       "3       0.373451    -0.801493   -0.108893   -0.378462  ...  0.048942   \n",
       "4      -1.178505    -1.333107   -1.429796   -1.035414  ...  1.816632   \n",
       "\n",
       "       1432      1433      1434      1435      1436      1437  \\\n",
       "0  0.234796 -1.463301  0.316636  0.096879 -0.041458  0.017039   \n",
       "1  0.035746  0.067434  0.164758  0.163697  0.014653  0.172129   \n",
       "2  0.089604  0.726467 -0.448798  0.239834 -0.491586  0.892078   \n",
       "3  0.013810  0.439313  0.179242 -0.366903 -0.036327  0.091954   \n",
       "4  0.600472 -2.021090 -0.526086  1.608330 -1.489185  0.580750   \n",
       "\n",
       "   length_of_stay_hospital  days_to_death  died_in_hospital  \n",
       "0                    10.61           95.0                 0  \n",
       "1                     6.33            NaN                 0  \n",
       "2                    15.08           23.0                 0  \n",
       "3                     2.73            2.0                 1  \n",
       "4                     2.79          489.0                 0  \n",
       "\n",
       "[5 rows x 1506 columns]"
      ]
     },
     "execution_count": 19,
     "metadata": {},
     "output_type": "execute_result"
    }
   ],
   "source": [
    "df.head()"
   ]
  },
  {
   "cell_type": "code",
   "execution_count": 20,
   "metadata": {
    "colab": {
     "base_uri": "https://localhost:8080/",
     "height": 337
    },
    "id": "aASUqNae7DQp",
    "outputId": "75bba5d7-be0b-4ec3-b576-60fe43f5ca43"
   },
   "outputs": [
    {
     "data": {
      "text/html": [
       "<div>\n",
       "<style scoped>\n",
       "    .dataframe tbody tr th:only-of-type {\n",
       "        vertical-align: middle;\n",
       "    }\n",
       "\n",
       "    .dataframe tbody tr th {\n",
       "        vertical-align: top;\n",
       "    }\n",
       "\n",
       "    .dataframe thead th {\n",
       "        text-align: right;\n",
       "    }\n",
       "</style>\n",
       "<table border=\"1\" class=\"dataframe\">\n",
       "  <thead>\n",
       "    <tr style=\"text-align: right;\">\n",
       "      <th></th>\n",
       "      <th>age</th>\n",
       "      <th>gender</th>\n",
       "      <th>weight</th>\n",
       "      <th>height</th>\n",
       "      <th>heartrate_mean</th>\n",
       "      <th>heartrate_min</th>\n",
       "      <th>heartrate_max</th>\n",
       "      <th>meanbp_mean</th>\n",
       "      <th>meanbp_min</th>\n",
       "      <th>meanbp_max</th>\n",
       "      <th>...</th>\n",
       "      <th>1430</th>\n",
       "      <th>1431</th>\n",
       "      <th>1432</th>\n",
       "      <th>1433</th>\n",
       "      <th>1434</th>\n",
       "      <th>1435</th>\n",
       "      <th>1436</th>\n",
       "      <th>1437</th>\n",
       "      <th>length_of_stay_hospital</th>\n",
       "      <th>days_to_death</th>\n",
       "    </tr>\n",
       "  </thead>\n",
       "  <tbody>\n",
       "    <tr>\n",
       "      <th>count</th>\n",
       "      <td>4.924400e+04</td>\n",
       "      <td>4.924400e+04</td>\n",
       "      <td>4.924400e+04</td>\n",
       "      <td>4.924400e+04</td>\n",
       "      <td>4.924400e+04</td>\n",
       "      <td>4.924400e+04</td>\n",
       "      <td>4.924400e+04</td>\n",
       "      <td>4.924400e+04</td>\n",
       "      <td>4.924400e+04</td>\n",
       "      <td>4.924400e+04</td>\n",
       "      <td>...</td>\n",
       "      <td>4.924400e+04</td>\n",
       "      <td>4.924400e+04</td>\n",
       "      <td>4.924400e+04</td>\n",
       "      <td>4.924400e+04</td>\n",
       "      <td>4.924400e+04</td>\n",
       "      <td>4.924400e+04</td>\n",
       "      <td>4.924400e+04</td>\n",
       "      <td>4.924400e+04</td>\n",
       "      <td>49244.000000</td>\n",
       "      <td>21255.000000</td>\n",
       "    </tr>\n",
       "    <tr>\n",
       "      <th>mean</th>\n",
       "      <td>1.376529e-16</td>\n",
       "      <td>-4.472997e-18</td>\n",
       "      <td>-2.249845e-16</td>\n",
       "      <td>-3.220188e-15</td>\n",
       "      <td>-1.328597e-16</td>\n",
       "      <td>-6.738353e-17</td>\n",
       "      <td>-4.198124e-16</td>\n",
       "      <td>-4.812079e-17</td>\n",
       "      <td>-1.490518e-16</td>\n",
       "      <td>1.685174e-16</td>\n",
       "      <td>...</td>\n",
       "      <td>2.416861e-18</td>\n",
       "      <td>6.204479e-18</td>\n",
       "      <td>-6.456987e-18</td>\n",
       "      <td>6.312697e-18</td>\n",
       "      <td>8.440978e-18</td>\n",
       "      <td>-6.980039e-18</td>\n",
       "      <td>-1.017246e-17</td>\n",
       "      <td>1.446509e-17</td>\n",
       "      <td>9.998587</td>\n",
       "      <td>516.879652</td>\n",
       "    </tr>\n",
       "    <tr>\n",
       "      <th>std</th>\n",
       "      <td>1.000010e+00</td>\n",
       "      <td>1.000010e+00</td>\n",
       "      <td>1.000010e+00</td>\n",
       "      <td>1.000010e+00</td>\n",
       "      <td>1.000010e+00</td>\n",
       "      <td>1.000010e+00</td>\n",
       "      <td>1.000010e+00</td>\n",
       "      <td>1.000010e+00</td>\n",
       "      <td>1.000010e+00</td>\n",
       "      <td>1.000010e+00</td>\n",
       "      <td>...</td>\n",
       "      <td>1.000010e+00</td>\n",
       "      <td>1.000010e+00</td>\n",
       "      <td>1.000010e+00</td>\n",
       "      <td>1.000010e+00</td>\n",
       "      <td>1.000010e+00</td>\n",
       "      <td>1.000010e+00</td>\n",
       "      <td>1.000010e+00</td>\n",
       "      <td>1.000010e+00</td>\n",
       "      <td>10.813017</td>\n",
       "      <td>750.221614</td>\n",
       "    </tr>\n",
       "    <tr>\n",
       "      <th>min</th>\n",
       "      <td>-2.851934e+00</td>\n",
       "      <td>-1.132970e+00</td>\n",
       "      <td>-3.679127e+00</td>\n",
       "      <td>-7.147812e+00</td>\n",
       "      <td>-3.550184e+00</td>\n",
       "      <td>-4.713578e+00</td>\n",
       "      <td>-3.554936e+00</td>\n",
       "      <td>-5.408812e+00</td>\n",
       "      <td>-4.291754e+00</td>\n",
       "      <td>-3.160847e+00</td>\n",
       "      <td>...</td>\n",
       "      <td>-1.011195e+01</td>\n",
       "      <td>-1.408372e+01</td>\n",
       "      <td>-1.212122e+01</td>\n",
       "      <td>-1.220689e+01</td>\n",
       "      <td>-1.106136e+01</td>\n",
       "      <td>-1.343276e+01</td>\n",
       "      <td>-1.118252e+01</td>\n",
       "      <td>-1.342199e+01</td>\n",
       "      <td>0.000000</td>\n",
       "      <td>0.000000</td>\n",
       "    </tr>\n",
       "    <tr>\n",
       "      <th>25%</th>\n",
       "      <td>-6.603668e-01</td>\n",
       "      <td>-1.132970e+00</td>\n",
       "      <td>-6.307663e-01</td>\n",
       "      <td>-3.229577e-15</td>\n",
       "      <td>-7.227333e-01</td>\n",
       "      <td>-6.634670e-01</td>\n",
       "      <td>-6.935185e-01</td>\n",
       "      <td>-7.128912e-01</td>\n",
       "      <td>-5.491942e-01</td>\n",
       "      <td>-5.716831e-01</td>\n",
       "      <td>...</td>\n",
       "      <td>-2.298431e-01</td>\n",
       "      <td>-2.208323e-01</td>\n",
       "      <td>-1.891258e-01</td>\n",
       "      <td>-1.892323e-01</td>\n",
       "      <td>-2.147595e-01</td>\n",
       "      <td>-2.002300e-01</td>\n",
       "      <td>-2.149288e-01</td>\n",
       "      <td>-2.106077e-01</td>\n",
       "      <td>4.040000</td>\n",
       "      <td>18.000000</td>\n",
       "    </tr>\n",
       "    <tr>\n",
       "      <th>50%</th>\n",
       "      <td>8.937975e-02</td>\n",
       "      <td>8.826360e-01</td>\n",
       "      <td>2.633700e-03</td>\n",
       "      <td>-3.229577e-15</td>\n",
       "      <td>-8.013081e-02</td>\n",
       "      <td>-6.246120e-02</td>\n",
       "      <td>-1.115352e-01</td>\n",
       "      <td>-9.267527e-02</td>\n",
       "      <td>0.000000e+00</td>\n",
       "      <td>-1.852407e-01</td>\n",
       "      <td>...</td>\n",
       "      <td>-2.339129e-02</td>\n",
       "      <td>-2.367918e-02</td>\n",
       "      <td>5.557881e-03</td>\n",
       "      <td>5.530760e-03</td>\n",
       "      <td>-7.414739e-03</td>\n",
       "      <td>-6.611173e-04</td>\n",
       "      <td>-1.369576e-02</td>\n",
       "      <td>-1.639093e-02</td>\n",
       "      <td>6.920000</td>\n",
       "      <td>149.000000</td>\n",
       "    </tr>\n",
       "    <tr>\n",
       "      <th>75%</th>\n",
       "      <td>7.814535e-01</td>\n",
       "      <td>8.826360e-01</td>\n",
       "      <td>3.853540e-01</td>\n",
       "      <td>-3.229577e-15</td>\n",
       "      <td>6.267319e-01</td>\n",
       "      <td>6.053230e-01</td>\n",
       "      <td>6.159440e-01</td>\n",
       "      <td>6.161429e-01</td>\n",
       "      <td>5.515586e-01</td>\n",
       "      <td>3.171345e-01</td>\n",
       "      <td>...</td>\n",
       "      <td>1.709379e-01</td>\n",
       "      <td>1.732594e-01</td>\n",
       "      <td>1.908462e-01</td>\n",
       "      <td>1.898307e-01</td>\n",
       "      <td>1.798870e-01</td>\n",
       "      <td>2.031686e-01</td>\n",
       "      <td>1.797130e-01</td>\n",
       "      <td>1.750793e-01</td>\n",
       "      <td>11.940000</td>\n",
       "      <td>723.500000</td>\n",
       "    </tr>\n",
       "    <tr>\n",
       "      <th>max</th>\n",
       "      <td>1.531200e+00</td>\n",
       "      <td>8.826360e-01</td>\n",
       "      <td>1.013087e+01</td>\n",
       "      <td>3.580457e+01</td>\n",
       "      <td>5.060689e+00</td>\n",
       "      <td>4.678807e+00</td>\n",
       "      <td>8.569716e+00</td>\n",
       "      <td>6.729700e+00</td>\n",
       "      <td>4.881186e+00</td>\n",
       "      <td>7.504964e+00</td>\n",
       "      <td>...</td>\n",
       "      <td>1.276112e+01</td>\n",
       "      <td>1.608548e+01</td>\n",
       "      <td>1.394031e+01</td>\n",
       "      <td>1.876977e+01</td>\n",
       "      <td>1.423887e+01</td>\n",
       "      <td>1.494526e+01</td>\n",
       "      <td>1.618489e+01</td>\n",
       "      <td>1.635604e+01</td>\n",
       "      <td>294.660000</td>\n",
       "      <td>4166.000000</td>\n",
       "    </tr>\n",
       "  </tbody>\n",
       "</table>\n",
       "<p>8 rows × 1505 columns</p>\n",
       "</div>"
      ],
      "text/plain": [
       "                age        gender        weight        height  heartrate_mean  \\\n",
       "count  4.924400e+04  4.924400e+04  4.924400e+04  4.924400e+04    4.924400e+04   \n",
       "mean   1.376529e-16 -4.472997e-18 -2.249845e-16 -3.220188e-15   -1.328597e-16   \n",
       "std    1.000010e+00  1.000010e+00  1.000010e+00  1.000010e+00    1.000010e+00   \n",
       "min   -2.851934e+00 -1.132970e+00 -3.679127e+00 -7.147812e+00   -3.550184e+00   \n",
       "25%   -6.603668e-01 -1.132970e+00 -6.307663e-01 -3.229577e-15   -7.227333e-01   \n",
       "50%    8.937975e-02  8.826360e-01  2.633700e-03 -3.229577e-15   -8.013081e-02   \n",
       "75%    7.814535e-01  8.826360e-01  3.853540e-01 -3.229577e-15    6.267319e-01   \n",
       "max    1.531200e+00  8.826360e-01  1.013087e+01  3.580457e+01    5.060689e+00   \n",
       "\n",
       "       heartrate_min  heartrate_max   meanbp_mean    meanbp_min    meanbp_max  \\\n",
       "count   4.924400e+04   4.924400e+04  4.924400e+04  4.924400e+04  4.924400e+04   \n",
       "mean   -6.738353e-17  -4.198124e-16 -4.812079e-17 -1.490518e-16  1.685174e-16   \n",
       "std     1.000010e+00   1.000010e+00  1.000010e+00  1.000010e+00  1.000010e+00   \n",
       "min    -4.713578e+00  -3.554936e+00 -5.408812e+00 -4.291754e+00 -3.160847e+00   \n",
       "25%    -6.634670e-01  -6.935185e-01 -7.128912e-01 -5.491942e-01 -5.716831e-01   \n",
       "50%    -6.246120e-02  -1.115352e-01 -9.267527e-02  0.000000e+00 -1.852407e-01   \n",
       "75%     6.053230e-01   6.159440e-01  6.161429e-01  5.515586e-01  3.171345e-01   \n",
       "max     4.678807e+00   8.569716e+00  6.729700e+00  4.881186e+00  7.504964e+00   \n",
       "\n",
       "       ...          1430          1431          1432          1433  \\\n",
       "count  ...  4.924400e+04  4.924400e+04  4.924400e+04  4.924400e+04   \n",
       "mean   ...  2.416861e-18  6.204479e-18 -6.456987e-18  6.312697e-18   \n",
       "std    ...  1.000010e+00  1.000010e+00  1.000010e+00  1.000010e+00   \n",
       "min    ... -1.011195e+01 -1.408372e+01 -1.212122e+01 -1.220689e+01   \n",
       "25%    ... -2.298431e-01 -2.208323e-01 -1.891258e-01 -1.892323e-01   \n",
       "50%    ... -2.339129e-02 -2.367918e-02  5.557881e-03  5.530760e-03   \n",
       "75%    ...  1.709379e-01  1.732594e-01  1.908462e-01  1.898307e-01   \n",
       "max    ...  1.276112e+01  1.608548e+01  1.394031e+01  1.876977e+01   \n",
       "\n",
       "               1434          1435          1436          1437  \\\n",
       "count  4.924400e+04  4.924400e+04  4.924400e+04  4.924400e+04   \n",
       "mean   8.440978e-18 -6.980039e-18 -1.017246e-17  1.446509e-17   \n",
       "std    1.000010e+00  1.000010e+00  1.000010e+00  1.000010e+00   \n",
       "min   -1.106136e+01 -1.343276e+01 -1.118252e+01 -1.342199e+01   \n",
       "25%   -2.147595e-01 -2.002300e-01 -2.149288e-01 -2.106077e-01   \n",
       "50%   -7.414739e-03 -6.611173e-04 -1.369576e-02 -1.639093e-02   \n",
       "75%    1.798870e-01  2.031686e-01  1.797130e-01  1.750793e-01   \n",
       "max    1.423887e+01  1.494526e+01  1.618489e+01  1.635604e+01   \n",
       "\n",
       "       length_of_stay_hospital  days_to_death  \n",
       "count             49244.000000   21255.000000  \n",
       "mean                  9.998587     516.879652  \n",
       "std                  10.813017     750.221614  \n",
       "min                   0.000000       0.000000  \n",
       "25%                   4.040000      18.000000  \n",
       "50%                   6.920000     149.000000  \n",
       "75%                  11.940000     723.500000  \n",
       "max                 294.660000    4166.000000  \n",
       "\n",
       "[8 rows x 1505 columns]"
      ]
     },
     "execution_count": 20,
     "metadata": {},
     "output_type": "execute_result"
    }
   ],
   "source": [
    "df.describe()"
   ]
  },
  {
   "cell_type": "markdown",
   "metadata": {
    "id": "G05Oi-SN7zG5"
   },
   "source": [
    "### Pop unnecessary labels:"
   ]
  },
  {
   "cell_type": "code",
   "execution_count": 21,
   "metadata": {
    "colab": {
     "base_uri": "https://localhost:8080/"
    },
    "id": "XuTkDzLB2x7M",
    "outputId": "8d6fab93-572f-4468-8284-3b1dcc2a8d0a",
    "scrolled": true
   },
   "outputs": [
    {
     "data": {
      "text/plain": [
       "0        10.61\n",
       "1         6.33\n",
       "2        15.08\n",
       "3         2.73\n",
       "4         2.79\n",
       "         ...  \n",
       "49239     0.44\n",
       "49240     0.17\n",
       "49241     0.15\n",
       "49242     0.35\n",
       "49243     0.29\n",
       "Name: length_of_stay_hospital, Length: 49244, dtype: float64"
      ]
     },
     "execution_count": 21,
     "metadata": {},
     "output_type": "execute_result"
    }
   ],
   "source": [
    "df.pop(\"days_to_death\")\n",
    "df.pop(\"length_of_stay_hospital\")\n",
    "# df.pop(\"length_of_stay_icu\")"
   ]
  },
  {
   "cell_type": "markdown",
   "metadata": {},
   "source": [
    "### Remove NaN labels:"
   ]
  },
  {
   "cell_type": "code",
   "execution_count": 22,
   "metadata": {},
   "outputs": [],
   "source": [
    "df = df[df.died_in_hospital == df.died_in_hospital]"
   ]
  },
  {
   "cell_type": "markdown",
   "metadata": {},
   "source": [
    "## Examine the class label imbalance:"
   ]
  },
  {
   "cell_type": "code",
   "execution_count": 23,
   "metadata": {},
   "outputs": [
    {
     "name": "stdout",
     "output_type": "stream",
     "text": [
      "Examples:\n",
      "    Total: 49244\n",
      "    Positive: 5668 (11.51% of total)\n",
      "\n"
     ]
    }
   ],
   "source": [
    "neg, pos = np.bincount(df['died_in_hospital'])\n",
    "total = neg + pos\n",
    "print(f'Examples:\\n    Total: {total}\\n    Positive: {pos} ({100 * pos / total:.2f}% of total)\\n')"
   ]
  },
  {
   "cell_type": "markdown",
   "metadata": {
    "id": "6407c31c"
   },
   "source": [
    "## Split data:"
   ]
  },
  {
   "cell_type": "code",
   "execution_count": 24,
   "metadata": {
    "colab": {
     "base_uri": "https://localhost:8080/"
    },
    "id": "edd424ad",
    "outputId": "e205dd1a-62d4-4034-8dfd-d3986cd34852"
   },
   "outputs": [
    {
     "name": "stdout",
     "output_type": "stream",
     "text": [
      "Index(['age', 'gender', 'weight', 'height', 'heartrate_mean', 'heartrate_min',\n",
      "       'heartrate_max', 'meanbp_mean', 'meanbp_min', 'meanbp_max',\n",
      "       'resprate_mean', 'resprate_min', 'resprate_max', 'tempc_mean',\n",
      "       'tempc_min', 'tempc_max', 'spo2_mean', 'spo2_min', 'spo2_max',\n",
      "       'glucose_mean'],\n",
      "      dtype='object')\n",
      "Index([1434, 1435, 1436, 1437, 'died_in_hospital'], dtype='object')\n"
     ]
    }
   ],
   "source": [
    "print(df.columns[:20])\n",
    "print(df.columns[-5:])\n",
    "\n",
    "train_df, test_df = train_test_split(df, test_size=0.2)\n",
    "train_df, val_df = train_test_split(df, test_size=0.2)\n",
    "\n",
    "train_labels = np.array(train_df.pop('died_in_hospital')).astype('float32')\n",
    "bool_train_labels = train_labels != 0\n",
    "val_labels = np.array(val_df.pop('died_in_hospital')).astype('float32')\n",
    "test_labels = np.array(test_df.pop('died_in_hospital')).astype('float32')\n",
    "\n",
    "train_features = np.array(train_df)\n",
    "val_features = np.array(val_df)\n",
    "test_features = np.array(test_df)"
   ]
  },
  {
   "cell_type": "code",
   "execution_count": 25,
   "metadata": {
    "colab": {
     "base_uri": "https://localhost:8080/"
    },
    "id": "4b8d8283",
    "outputId": "78c52205-c6ff-4f6c-867f-043a22fc4225"
   },
   "outputs": [
    {
     "name": "stdout",
     "output_type": "stream",
     "text": [
      "Training labels shape: (39395,)\n",
      "Validation labels shape: (9849,)\n",
      "Test labels shape: (9849,)\n",
      "Training features shape: (39395, 1503)\n",
      "Validation features shape: (9849, 1503)\n",
      "Test features shape: (9849, 1503)\n"
     ]
    }
   ],
   "source": [
    "scaler = StandardScaler()\n",
    "train_features = scaler.fit_transform(train_features)\n",
    "\n",
    "val_features = scaler.transform(val_features)\n",
    "test_features = scaler.transform(test_features)\n",
    "\n",
    "train_features = np.clip(train_features, -5, 5)\n",
    "val_features = np.clip(val_features, -5, 5)\n",
    "test_features = np.clip(test_features, -5, 5)\n",
    "\n",
    "\n",
    "print('Training labels shape:', train_labels.shape)\n",
    "print('Validation labels shape:', val_labels.shape)\n",
    "print('Test labels shape:', test_labels.shape)\n",
    "\n",
    "print('Training features shape:', train_features.shape)\n",
    "print('Validation features shape:', val_features.shape)\n",
    "print('Test features shape:', test_features.shape)"
   ]
  },
  {
   "cell_type": "markdown",
   "metadata": {
    "id": "6d7a26c3"
   },
   "source": [
    "## Define the model and metrics:"
   ]
  },
  {
   "cell_type": "code",
   "execution_count": 26,
   "metadata": {
    "id": "c742ab09"
   },
   "outputs": [],
   "source": [
    "METRICS = [\n",
    "      keras.metrics.TruePositives(name='tp'),\n",
    "      keras.metrics.FalsePositives(name='fp'),\n",
    "      keras.metrics.TrueNegatives(name='tn'),\n",
    "      keras.metrics.FalseNegatives(name='fn'), \n",
    "      keras.metrics.BinaryAccuracy(name='accuracy'),\n",
    "      keras.metrics.Precision(name='precision'),\n",
    "      keras.metrics.Recall(name='recall'),\n",
    "      keras.metrics.AUC(name='auc'),\n",
    "      keras.metrics.AUC(name='prc', curve='PR'), # precision-recall curve\n",
    "]\n",
    "\n",
    "def make_model(metrics=METRICS, output_bias=None):\n",
    "    if output_bias is not None:\n",
    "        output_bias = tf.keras.initializers.Constant(output_bias)\n",
    "        \n",
    "    model = keras.Sequential([\n",
    "        keras.layers.Dense(layer1nodes, activation='relu', input_shape=(train_features.shape[-1],)),\n",
    "        keras.layers.Dropout(0.5),\n",
    "        keras.layers.Dense(1, activation='sigmoid', bias_initializer=output_bias),\n",
    "    ])\n",
    "\n",
    "    model.compile(\n",
    "        optimizer=keras.optimizers.Adam(learning_rate=1e-3),\n",
    "        loss=keras.losses.BinaryCrossentropy(),\n",
    "        metrics=metrics)\n",
    "\n",
    "    return model"
   ]
  },
  {
   "cell_type": "code",
   "execution_count": 27,
   "metadata": {
    "id": "c3b256c0"
   },
   "outputs": [],
   "source": [
    "EPOCHS = 512\n",
    "BATCH_SIZE = 2048\n",
    "\n",
    "early_stopping = tf.keras.callbacks.EarlyStopping(\n",
    "    monitor='val_prc', \n",
    "    verbose=1,\n",
    "    patience=24,\n",
    "    mode='max',\n",
    "    restore_best_weights=True)"
   ]
  },
  {
   "cell_type": "code",
   "execution_count": 28,
   "metadata": {
    "colab": {
     "base_uri": "https://localhost:8080/"
    },
    "id": "d05698ea",
    "outputId": "e725f802-da7c-4b88-a163-1801613d85cc"
   },
   "outputs": [
    {
     "name": "stdout",
     "output_type": "stream",
     "text": [
      "Model: \"sequential\"\n",
      "_________________________________________________________________\n",
      "Layer (type)                 Output Shape              Param #   \n",
      "=================================================================\n",
      "dense (Dense)                (None, 256)               385024    \n",
      "_________________________________________________________________\n",
      "dropout (Dropout)            (None, 256)               0         \n",
      "_________________________________________________________________\n",
      "dense_1 (Dense)              (None, 1)                 257       \n",
      "=================================================================\n",
      "Total params: 385,281\n",
      "Trainable params: 385,281\n",
      "Non-trainable params: 0\n",
      "_________________________________________________________________\n"
     ]
    }
   ],
   "source": [
    "initial_bias = np.log([pos/neg])\n",
    "\n",
    "model = make_model(output_bias=initial_bias)\n",
    "model.summary()"
   ]
  },
  {
   "cell_type": "code",
   "execution_count": 29,
   "metadata": {
    "colab": {
     "base_uri": "https://localhost:8080/"
    },
    "id": "a89f0fba",
    "outputId": "cb2101a6-6766-4d97-ecaf-52d95842ecb3"
   },
   "outputs": [
    {
     "data": {
      "text/plain": [
       "array([[0.13127145],\n",
       "       [0.17111534],\n",
       "       [0.18712422],\n",
       "       [0.10778207],\n",
       "       [0.15644571],\n",
       "       [0.21228051],\n",
       "       [0.16357532],\n",
       "       [0.22713017],\n",
       "       [0.10765231],\n",
       "       [0.15193725]], dtype=float32)"
      ]
     },
     "execution_count": 29,
     "metadata": {},
     "output_type": "execute_result"
    }
   ],
   "source": [
    "model.predict(train_features[-10:])"
   ]
  },
  {
   "cell_type": "code",
   "execution_count": 30,
   "metadata": {
    "colab": {
     "base_uri": "https://localhost:8080/"
    },
    "id": "edc9dd1c",
    "outputId": "20068321-142f-4f49-c182-c90e700eec89"
   },
   "outputs": [
    {
     "name": "stdout",
     "output_type": "stream",
     "text": [
      "Loss: 0.4630\n"
     ]
    }
   ],
   "source": [
    "results = model.evaluate(train_features, train_labels, batch_size=BATCH_SIZE, verbose=0)\n",
    "print(\"Loss: {:0.4f}\".format(results[0]))"
   ]
  },
  {
   "cell_type": "markdown",
   "metadata": {
    "id": "6b47ad5e"
   },
   "source": [
    "### Save initial Biases for better comparison:"
   ]
  },
  {
   "cell_type": "code",
   "execution_count": 31,
   "metadata": {
    "id": "37683346"
   },
   "outputs": [],
   "source": [
    "initial_weights = os.path.join(tempfile.mkdtemp(), 'initial_weights')"
   ]
  },
  {
   "cell_type": "markdown",
   "metadata": {
    "id": "1da17ece"
   },
   "source": [
    "# Train model:"
   ]
  },
  {
   "cell_type": "markdown",
   "metadata": {
    "id": "bf392d70"
   },
   "source": [
    "## Weighted Classes:"
   ]
  },
  {
   "cell_type": "code",
   "execution_count": 32,
   "metadata": {
    "colab": {
     "base_uri": "https://localhost:8080/"
    },
    "id": "303b2727",
    "outputId": "833d9f79-7f85-4914-be3b-9b21d2b7898f"
   },
   "outputs": [
    {
     "name": "stdout",
     "output_type": "stream",
     "text": [
      "Weight for class 0: 0.57\n",
      "Weight for class 1: 4.34\n"
     ]
    }
   ],
   "source": [
    "# Scaling by total/2 helps keep the loss to a similar magnitude.\n",
    "# The sum of the weights of all examples stays the same.\n",
    "weight_for_0 = (1 / neg)*(total)/2.0 \n",
    "weight_for_1 = (1 / pos)*(total)/2.0\n",
    "\n",
    "class_weight = {0: weight_for_0, 1: weight_for_1}\n",
    "\n",
    "print('Weight for class 0: {:.2f}'.format(weight_for_0))\n",
    "print('Weight for class 1: {:.2f}'.format(weight_for_1))"
   ]
  },
  {
   "cell_type": "code",
   "execution_count": 33,
   "metadata": {
    "colab": {
     "base_uri": "https://localhost:8080/"
    },
    "id": "e3c6d033",
    "outputId": "8c1dc4dd-f379-44ff-d7b2-61500f3f2856"
   },
   "outputs": [
    {
     "name": "stdout",
     "output_type": "stream",
     "text": [
      "WARNING:tensorflow:From /home/juliuswa/installed/apache-tomcat-9.0.30/anaconda3/envs/pyML/lib/python3.9/site-packages/tensorflow/python/ops/array_ops.py:5043: calling gather (from tensorflow.python.ops.array_ops) with validate_indices is deprecated and will be removed in a future version.\n",
      "Instructions for updating:\n",
      "The `validate_indices` argument has no effect. Indices are always validated on CPU and never validated on GPU.\n",
      "Epoch 1/512\n",
      "20/20 [==============================] - 3s 90ms/step - loss: 0.6768 - tp: 3935.0000 - fp: 17857.0000 - tn: 51883.0000 - fn: 5115.0000 - accuracy: 0.7084 - precision: 0.1806 - recall: 0.4348 - auc: 0.6248 - prc: 0.2482 - val_loss: 0.4273 - val_tp: 935.0000 - val_fp: 1634.0000 - val_tn: 7072.0000 - val_fn: 208.0000 - val_accuracy: 0.8130 - val_precision: 0.3640 - val_recall: 0.8180 - val_auc: 0.8891 - val_prc: 0.6215\n",
      "Epoch 2/512\n",
      "20/20 [==============================] - 1s 43ms/step - loss: 0.3773 - tp: 3862.0000 - fp: 6237.0000 - tn: 28633.0000 - fn: 663.0000 - accuracy: 0.8249 - precision: 0.3824 - recall: 0.8535 - auc: 0.9172 - prc: 0.6497 - val_loss: 0.3444 - val_tp: 920.0000 - val_fp: 1146.0000 - val_tn: 7560.0000 - val_fn: 223.0000 - val_accuracy: 0.8610 - val_precision: 0.4453 - val_recall: 0.8049 - val_auc: 0.9058 - val_prc: 0.6503\n",
      "Epoch 3/512\n",
      "20/20 [==============================] - 1s 44ms/step - loss: 0.2996 - tp: 4039.0000 - fp: 4837.0000 - tn: 30033.0000 - fn: 486.0000 - accuracy: 0.8649 - precision: 0.4550 - recall: 0.8926 - auc: 0.9460 - prc: 0.7228 - val_loss: 0.3207 - val_tp: 901.0000 - val_fp: 1029.0000 - val_tn: 7677.0000 - val_fn: 242.0000 - val_accuracy: 0.8710 - val_precision: 0.4668 - val_recall: 0.7883 - val_auc: 0.9106 - val_prc: 0.6588\n",
      "Epoch 4/512\n",
      "20/20 [==============================] - 1s 44ms/step - loss: 0.2594 - tp: 4116.0000 - fp: 4075.0000 - tn: 30795.0000 - fn: 409.0000 - accuracy: 0.8862 - precision: 0.5025 - recall: 0.9096 - auc: 0.9588 - prc: 0.7565 - val_loss: 0.3090 - val_tp: 872.0000 - val_fp: 948.0000 - val_tn: 7758.0000 - val_fn: 271.0000 - val_accuracy: 0.8762 - val_precision: 0.4791 - val_recall: 0.7629 - val_auc: 0.9087 - val_prc: 0.6568\n",
      "Epoch 5/512\n",
      "20/20 [==============================] - 1s 45ms/step - loss: 0.2301 - tp: 4198.0000 - fp: 3689.0000 - tn: 31181.0000 - fn: 327.0000 - accuracy: 0.8981 - precision: 0.5323 - recall: 0.9277 - auc: 0.9671 - prc: 0.7885 - val_loss: 0.2978 - val_tp: 867.0000 - val_fp: 883.0000 - val_tn: 7823.0000 - val_fn: 276.0000 - val_accuracy: 0.8823 - val_precision: 0.4954 - val_recall: 0.7585 - val_auc: 0.9109 - val_prc: 0.6638\n",
      "Epoch 6/512\n",
      "20/20 [==============================] - 1s 43ms/step - loss: 0.2126 - tp: 4179.0000 - fp: 3240.0000 - tn: 31630.0000 - fn: 346.0000 - accuracy: 0.9090 - precision: 0.5633 - recall: 0.9235 - auc: 0.9716 - prc: 0.8102 - val_loss: 0.2979 - val_tp: 871.0000 - val_fp: 874.0000 - val_tn: 7832.0000 - val_fn: 272.0000 - val_accuracy: 0.8836 - val_precision: 0.4991 - val_recall: 0.7620 - val_auc: 0.9128 - val_prc: 0.6661\n",
      "Epoch 7/512\n",
      "20/20 [==============================] - 1s 44ms/step - loss: 0.1897 - tp: 4286.0000 - fp: 3133.0000 - tn: 31737.0000 - fn: 239.0000 - accuracy: 0.9144 - precision: 0.5777 - recall: 0.9472 - auc: 0.9769 - prc: 0.8328 - val_loss: 0.2837 - val_tp: 840.0000 - val_fp: 791.0000 - val_tn: 7915.0000 - val_fn: 303.0000 - val_accuracy: 0.8889 - val_precision: 0.5150 - val_recall: 0.7349 - val_auc: 0.9103 - val_prc: 0.6678\n",
      "Epoch 8/512\n",
      "20/20 [==============================] - 1s 44ms/step - loss: 0.1761 - tp: 4296.0000 - fp: 2702.0000 - tn: 32168.0000 - fn: 229.0000 - accuracy: 0.9256 - precision: 0.6139 - recall: 0.9494 - auc: 0.9800 - prc: 0.8504 - val_loss: 0.2842 - val_tp: 834.0000 - val_fp: 764.0000 - val_tn: 7942.0000 - val_fn: 309.0000 - val_accuracy: 0.8911 - val_precision: 0.5219 - val_recall: 0.7297 - val_auc: 0.9108 - val_prc: 0.6695\n",
      "Epoch 9/512\n",
      "20/20 [==============================] - 1s 45ms/step - loss: 0.1639 - tp: 4336.0000 - fp: 2717.0000 - tn: 32153.0000 - fn: 189.0000 - accuracy: 0.9262 - precision: 0.6148 - recall: 0.9582 - auc: 0.9824 - prc: 0.8629 - val_loss: 0.2772 - val_tp: 825.0000 - val_fp: 715.0000 - val_tn: 7991.0000 - val_fn: 318.0000 - val_accuracy: 0.8951 - val_precision: 0.5357 - val_recall: 0.7218 - val_auc: 0.9108 - val_prc: 0.6697\n",
      "Epoch 10/512\n",
      "20/20 [==============================] - 1s 50ms/step - loss: 0.1500 - tp: 4342.0000 - fp: 2299.0000 - tn: 32571.0000 - fn: 183.0000 - accuracy: 0.9370 - precision: 0.6538 - recall: 0.9596 - auc: 0.9853 - prc: 0.8800 - val_loss: 0.2817 - val_tp: 826.0000 - val_fp: 722.0000 - val_tn: 7984.0000 - val_fn: 317.0000 - val_accuracy: 0.8945 - val_precision: 0.5336 - val_recall: 0.7227 - val_auc: 0.9109 - val_prc: 0.6692\n",
      "Epoch 11/512\n",
      "20/20 [==============================] - 1s 61ms/step - loss: 0.1389 - tp: 4399.0000 - fp: 2284.0000 - tn: 32586.0000 - fn: 126.0000 - accuracy: 0.9388 - precision: 0.6582 - recall: 0.9722 - auc: 0.9870 - prc: 0.8940 - val_loss: 0.2777 - val_tp: 808.0000 - val_fp: 669.0000 - val_tn: 8037.0000 - val_fn: 335.0000 - val_accuracy: 0.8981 - val_precision: 0.5471 - val_recall: 0.7069 - val_auc: 0.9085 - val_prc: 0.6670\n",
      "Epoch 12/512\n",
      "20/20 [==============================] - 1s 64ms/step - loss: 0.1260 - tp: 4409.0000 - fp: 2026.0000 - tn: 32844.0000 - fn: 116.0000 - accuracy: 0.9456 - precision: 0.6852 - recall: 0.9744 - auc: 0.9894 - prc: 0.9102 - val_loss: 0.2780 - val_tp: 802.0000 - val_fp: 650.0000 - val_tn: 8056.0000 - val_fn: 341.0000 - val_accuracy: 0.8994 - val_precision: 0.5523 - val_recall: 0.7017 - val_auc: 0.9081 - val_prc: 0.6661\n",
      "Epoch 13/512\n",
      "20/20 [==============================] - 1s 64ms/step - loss: 0.1203 - tp: 4401.0000 - fp: 1854.0000 - tn: 33016.0000 - fn: 124.0000 - accuracy: 0.9498 - precision: 0.7036 - recall: 0.9726 - auc: 0.9902 - prc: 0.9158 - val_loss: 0.2800 - val_tp: 796.0000 - val_fp: 652.0000 - val_tn: 8054.0000 - val_fn: 347.0000 - val_accuracy: 0.8986 - val_precision: 0.5497 - val_recall: 0.6964 - val_auc: 0.9073 - val_prc: 0.6692\n",
      "Epoch 14/512\n",
      "20/20 [==============================] - 1s 62ms/step - loss: 0.1140 - tp: 4429.0000 - fp: 1866.0000 - tn: 33004.0000 - fn: 96.0000 - accuracy: 0.9502 - precision: 0.7036 - recall: 0.9788 - auc: 0.9913 - prc: 0.9251 - val_loss: 0.2816 - val_tp: 794.0000 - val_fp: 634.0000 - val_tn: 8072.0000 - val_fn: 349.0000 - val_accuracy: 0.9002 - val_precision: 0.5560 - val_recall: 0.6947 - val_auc: 0.9074 - val_prc: 0.6691\n",
      "Epoch 15/512\n",
      "20/20 [==============================] - 1s 64ms/step - loss: 0.1092 - tp: 4420.0000 - fp: 1797.0000 - tn: 33073.0000 - fn: 105.0000 - accuracy: 0.9517 - precision: 0.7110 - recall: 0.9768 - auc: 0.9919 - prc: 0.9317 - val_loss: 0.2799 - val_tp: 786.0000 - val_fp: 596.0000 - val_tn: 8110.0000 - val_fn: 357.0000 - val_accuracy: 0.9032 - val_precision: 0.5687 - val_recall: 0.6877 - val_auc: 0.9055 - val_prc: 0.6680\n",
      "Epoch 16/512\n",
      "20/20 [==============================] - 1s 47ms/step - loss: 0.0988 - tp: 4438.0000 - fp: 1574.0000 - tn: 33296.0000 - fn: 87.0000 - accuracy: 0.9578 - precision: 0.7382 - recall: 0.9808 - auc: 0.9934 - prc: 0.9432 - val_loss: 0.2814 - val_tp: 775.0000 - val_fp: 578.0000 - val_tn: 8128.0000 - val_fn: 368.0000 - val_accuracy: 0.9039 - val_precision: 0.5728 - val_recall: 0.6780 - val_auc: 0.9052 - val_prc: 0.6724\n",
      "Epoch 17/512\n",
      "20/20 [==============================] - 1s 49ms/step - loss: 0.0968 - tp: 4445.0000 - fp: 1511.0000 - tn: 33359.0000 - fn: 80.0000 - accuracy: 0.9596 - precision: 0.7463 - recall: 0.9823 - auc: 0.9937 - prc: 0.9460 - val_loss: 0.2855 - val_tp: 774.0000 - val_fp: 596.0000 - val_tn: 8110.0000 - val_fn: 369.0000 - val_accuracy: 0.9020 - val_precision: 0.5650 - val_recall: 0.6772 - val_auc: 0.9060 - val_prc: 0.6700\n",
      "Epoch 18/512\n",
      "20/20 [==============================] - 1s 48ms/step - loss: 0.0898 - tp: 4461.0000 - fp: 1500.0000 - tn: 33370.0000 - fn: 64.0000 - accuracy: 0.9603 - precision: 0.7484 - recall: 0.9859 - auc: 0.9944 - prc: 0.9526 - val_loss: 0.2848 - val_tp: 761.0000 - val_fp: 556.0000 - val_tn: 8150.0000 - val_fn: 382.0000 - val_accuracy: 0.9048 - val_precision: 0.5778 - val_recall: 0.6658 - val_auc: 0.9066 - val_prc: 0.6642\n",
      "Epoch 19/512\n"
     ]
    },
    {
     "name": "stdout",
     "output_type": "stream",
     "text": [
      "20/20 [==============================] - 1s 45ms/step - loss: 0.0831 - tp: 4463.0000 - fp: 1338.0000 - tn: 33532.0000 - fn: 62.0000 - accuracy: 0.9645 - precision: 0.7694 - recall: 0.9863 - auc: 0.9952 - prc: 0.9565 - val_loss: 0.2848 - val_tp: 771.0000 - val_fp: 529.0000 - val_tn: 8177.0000 - val_fn: 372.0000 - val_accuracy: 0.9085 - val_precision: 0.5931 - val_recall: 0.6745 - val_auc: 0.9061 - val_prc: 0.6692\n",
      "Epoch 20/512\n",
      "20/20 [==============================] - 1s 44ms/step - loss: 0.0788 - tp: 4467.0000 - fp: 1267.0000 - tn: 33603.0000 - fn: 58.0000 - accuracy: 0.9664 - precision: 0.7790 - recall: 0.9872 - auc: 0.9958 - prc: 0.9637 - val_loss: 0.2882 - val_tp: 759.0000 - val_fp: 506.0000 - val_tn: 8200.0000 - val_fn: 384.0000 - val_accuracy: 0.9096 - val_precision: 0.6000 - val_recall: 0.6640 - val_auc: 0.9051 - val_prc: 0.6698\n",
      "Epoch 21/512\n",
      "20/20 [==============================] - 1s 47ms/step - loss: 0.0718 - tp: 4488.0000 - fp: 1133.0000 - tn: 33737.0000 - fn: 37.0000 - accuracy: 0.9703 - precision: 0.7984 - recall: 0.9918 - auc: 0.9966 - prc: 0.9700 - val_loss: 0.2904 - val_tp: 757.0000 - val_fp: 498.0000 - val_tn: 8208.0000 - val_fn: 386.0000 - val_accuracy: 0.9102 - val_precision: 0.6032 - val_recall: 0.6623 - val_auc: 0.9048 - val_prc: 0.6697\n",
      "Epoch 22/512\n",
      "20/20 [==============================] - 1s 46ms/step - loss: 0.0673 - tp: 4489.0000 - fp: 1094.0000 - tn: 33776.0000 - fn: 36.0000 - accuracy: 0.9713 - precision: 0.8040 - recall: 0.9920 - auc: 0.9970 - prc: 0.9734 - val_loss: 0.2924 - val_tp: 743.0000 - val_fp: 492.0000 - val_tn: 8214.0000 - val_fn: 400.0000 - val_accuracy: 0.9094 - val_precision: 0.6016 - val_recall: 0.6500 - val_auc: 0.9034 - val_prc: 0.6679\n",
      "Epoch 23/512\n",
      "20/20 [==============================] - 1s 57ms/step - loss: 0.0659 - tp: 4486.0000 - fp: 1060.0000 - tn: 33810.0000 - fn: 39.0000 - accuracy: 0.9721 - precision: 0.8089 - recall: 0.9914 - auc: 0.9970 - prc: 0.9727 - val_loss: 0.2966 - val_tp: 735.0000 - val_fp: 477.0000 - val_tn: 8229.0000 - val_fn: 408.0000 - val_accuracy: 0.9101 - val_precision: 0.6064 - val_recall: 0.6430 - val_auc: 0.9018 - val_prc: 0.6728\n",
      "Epoch 24/512\n",
      "20/20 [==============================] - 1s 47ms/step - loss: 0.0645 - tp: 4478.0000 - fp: 1001.0000 - tn: 33869.0000 - fn: 47.0000 - accuracy: 0.9734 - precision: 0.8173 - recall: 0.9896 - auc: 0.9971 - prc: 0.9745 - val_loss: 0.3021 - val_tp: 756.0000 - val_fp: 501.0000 - val_tn: 8205.0000 - val_fn: 387.0000 - val_accuracy: 0.9098 - val_precision: 0.6014 - val_recall: 0.6614 - val_auc: 0.9008 - val_prc: 0.6704\n",
      "Epoch 25/512\n",
      "20/20 [==============================] - 1s 47ms/step - loss: 0.0611 - tp: 4488.0000 - fp: 958.0000 - tn: 33912.0000 - fn: 37.0000 - accuracy: 0.9747 - precision: 0.8241 - recall: 0.9918 - auc: 0.9973 - prc: 0.9756 - val_loss: 0.3028 - val_tp: 739.0000 - val_fp: 468.0000 - val_tn: 8238.0000 - val_fn: 404.0000 - val_accuracy: 0.9115 - val_precision: 0.6123 - val_recall: 0.6465 - val_auc: 0.9002 - val_prc: 0.6682\n",
      "Epoch 26/512\n",
      "20/20 [==============================] - 1s 47ms/step - loss: 0.0576 - tp: 4486.0000 - fp: 906.0000 - tn: 33964.0000 - fn: 39.0000 - accuracy: 0.9760 - precision: 0.8320 - recall: 0.9914 - auc: 0.9978 - prc: 0.9805 - val_loss: 0.3060 - val_tp: 743.0000 - val_fp: 458.0000 - val_tn: 8248.0000 - val_fn: 400.0000 - val_accuracy: 0.9129 - val_precision: 0.6187 - val_recall: 0.6500 - val_auc: 0.8987 - val_prc: 0.6674\n",
      "Epoch 27/512\n",
      "20/20 [==============================] - 1s 45ms/step - loss: 0.0547 - tp: 4488.0000 - fp: 832.0000 - tn: 34038.0000 - fn: 37.0000 - accuracy: 0.9779 - precision: 0.8436 - recall: 0.9918 - auc: 0.9980 - prc: 0.9826 - val_loss: 0.3063 - val_tp: 739.0000 - val_fp: 457.0000 - val_tn: 8249.0000 - val_fn: 404.0000 - val_accuracy: 0.9126 - val_precision: 0.6179 - val_recall: 0.6465 - val_auc: 0.8996 - val_prc: 0.6659\n",
      "Epoch 28/512\n",
      "20/20 [==============================] - 1s 48ms/step - loss: 0.0509 - tp: 4495.0000 - fp: 856.0000 - tn: 34014.0000 - fn: 30.0000 - accuracy: 0.9775 - precision: 0.8400 - recall: 0.9934 - auc: 0.9982 - prc: 0.9832 - val_loss: 0.3089 - val_tp: 729.0000 - val_fp: 438.0000 - val_tn: 8268.0000 - val_fn: 414.0000 - val_accuracy: 0.9135 - val_precision: 0.6247 - val_recall: 0.6378 - val_auc: 0.8977 - val_prc: 0.6631\n",
      "Epoch 29/512\n",
      "20/20 [==============================] - 1s 45ms/step - loss: 0.0506 - tp: 4499.0000 - fp: 794.0000 - tn: 34076.0000 - fn: 26.0000 - accuracy: 0.9792 - precision: 0.8500 - recall: 0.9943 - auc: 0.9983 - prc: 0.9851 - val_loss: 0.3126 - val_tp: 735.0000 - val_fp: 452.0000 - val_tn: 8254.0000 - val_fn: 408.0000 - val_accuracy: 0.9127 - val_precision: 0.6192 - val_recall: 0.6430 - val_auc: 0.8992 - val_prc: 0.6659\n",
      "Epoch 30/512\n",
      "20/20 [==============================] - 1s 44ms/step - loss: 0.0472 - tp: 4494.0000 - fp: 745.0000 - tn: 34125.0000 - fn: 31.0000 - accuracy: 0.9803 - precision: 0.8578 - recall: 0.9931 - auc: 0.9985 - prc: 0.9869 - val_loss: 0.3179 - val_tp: 716.0000 - val_fp: 426.0000 - val_tn: 8280.0000 - val_fn: 427.0000 - val_accuracy: 0.9134 - val_precision: 0.6270 - val_recall: 0.6264 - val_auc: 0.8964 - val_prc: 0.6618\n",
      "Epoch 31/512\n",
      "20/20 [==============================] - 1s 45ms/step - loss: 0.0470 - tp: 4491.0000 - fp: 725.0000 - tn: 34145.0000 - fn: 34.0000 - accuracy: 0.9807 - precision: 0.8610 - recall: 0.9925 - auc: 0.9985 - prc: 0.9870 - val_loss: 0.3197 - val_tp: 723.0000 - val_fp: 427.0000 - val_tn: 8279.0000 - val_fn: 420.0000 - val_accuracy: 0.9140 - val_precision: 0.6287 - val_recall: 0.6325 - val_auc: 0.8959 - val_prc: 0.6666\n",
      "Epoch 32/512\n",
      "20/20 [==============================] - 1s 45ms/step - loss: 0.0457 - tp: 4495.0000 - fp: 690.0000 - tn: 34180.0000 - fn: 30.0000 - accuracy: 0.9817 - precision: 0.8669 - recall: 0.9934 - auc: 0.9986 - prc: 0.9875 - val_loss: 0.3257 - val_tp: 716.0000 - val_fp: 419.0000 - val_tn: 8287.0000 - val_fn: 427.0000 - val_accuracy: 0.9141 - val_precision: 0.6308 - val_recall: 0.6264 - val_auc: 0.8925 - val_prc: 0.6629\n",
      "Epoch 33/512\n",
      "20/20 [==============================] - 1s 45ms/step - loss: 0.0424 - tp: 4502.0000 - fp: 724.0000 - tn: 34146.0000 - fn: 23.0000 - accuracy: 0.9810 - precision: 0.8615 - recall: 0.9949 - auc: 0.9988 - prc: 0.9896 - val_loss: 0.3269 - val_tp: 716.0000 - val_fp: 412.0000 - val_tn: 8294.0000 - val_fn: 427.0000 - val_accuracy: 0.9148 - val_precision: 0.6348 - val_recall: 0.6264 - val_auc: 0.8931 - val_prc: 0.6612\n",
      "Epoch 34/512\n",
      "20/20 [==============================] - 1s 46ms/step - loss: 0.0432 - tp: 4493.0000 - fp: 655.0000 - tn: 34215.0000 - fn: 32.0000 - accuracy: 0.9826 - precision: 0.8728 - recall: 0.9929 - auc: 0.9988 - prc: 0.9896 - val_loss: 0.3272 - val_tp: 718.0000 - val_fp: 414.0000 - val_tn: 8292.0000 - val_fn: 425.0000 - val_accuracy: 0.9148 - val_precision: 0.6343 - val_recall: 0.6282 - val_auc: 0.8928 - val_prc: 0.6653\n",
      "Epoch 35/512\n",
      "20/20 [==============================] - 1s 45ms/step - loss: 0.0386 - tp: 4505.0000 - fp: 626.0000 - tn: 34244.0000 - fn: 20.0000 - accuracy: 0.9836 - precision: 0.8780 - recall: 0.9956 - auc: 0.9990 - prc: 0.9913 - val_loss: 0.3341 - val_tp: 711.0000 - val_fp: 399.0000 - val_tn: 8307.0000 - val_fn: 432.0000 - val_accuracy: 0.9156 - val_precision: 0.6405 - val_recall: 0.6220 - val_auc: 0.8898 - val_prc: 0.6629\n",
      "Epoch 36/512\n",
      "20/20 [==============================] - 1s 45ms/step - loss: 0.0384 - tp: 4505.0000 - fp: 565.0000 - tn: 34305.0000 - fn: 20.0000 - accuracy: 0.9852 - precision: 0.8886 - recall: 0.9956 - auc: 0.9990 - prc: 0.9906 - val_loss: 0.3366 - val_tp: 715.0000 - val_fp: 408.0000 - val_tn: 8298.0000 - val_fn: 428.0000 - val_accuracy: 0.9151 - val_precision: 0.6367 - val_recall: 0.6255 - val_auc: 0.8917 - val_prc: 0.6616\n",
      "Epoch 37/512\n",
      "20/20 [==============================] - 1s 45ms/step - loss: 0.0367 - tp: 4505.0000 - fp: 590.0000 - tn: 34280.0000 - fn: 20.0000 - accuracy: 0.9845 - precision: 0.8842 - recall: 0.9956 - auc: 0.9991 - prc: 0.9927 - val_loss: 0.3372 - val_tp: 711.0000 - val_fp: 390.0000 - val_tn: 8316.0000 - val_fn: 432.0000 - val_accuracy: 0.9165 - val_precision: 0.6458 - val_recall: 0.6220 - val_auc: 0.8899 - val_prc: 0.6602\n",
      "Epoch 38/512\n"
     ]
    },
    {
     "name": "stdout",
     "output_type": "stream",
     "text": [
      "20/20 [==============================] - 1s 45ms/step - loss: 0.0374 - tp: 4498.0000 - fp: 537.0000 - tn: 34333.0000 - fn: 27.0000 - accuracy: 0.9857 - precision: 0.8933 - recall: 0.9940 - auc: 0.9991 - prc: 0.9919 - val_loss: 0.3449 - val_tp: 716.0000 - val_fp: 400.0000 - val_tn: 8306.0000 - val_fn: 427.0000 - val_accuracy: 0.9160 - val_precision: 0.6416 - val_recall: 0.6264 - val_auc: 0.8880 - val_prc: 0.6602\n",
      "Epoch 39/512\n",
      "20/20 [==============================] - 1s 45ms/step - loss: 0.0348 - tp: 4513.0000 - fp: 568.0000 - tn: 34302.0000 - fn: 12.0000 - accuracy: 0.9853 - precision: 0.8882 - recall: 0.9973 - auc: 0.9992 - prc: 0.9929 - val_loss: 0.3469 - val_tp: 705.0000 - val_fp: 386.0000 - val_tn: 8320.0000 - val_fn: 438.0000 - val_accuracy: 0.9163 - val_precision: 0.6462 - val_recall: 0.6168 - val_auc: 0.8870 - val_prc: 0.6625\n",
      "Epoch 40/512\n",
      "20/20 [==============================] - 1s 46ms/step - loss: 0.0359 - tp: 4495.0000 - fp: 533.0000 - tn: 34337.0000 - fn: 30.0000 - accuracy: 0.9857 - precision: 0.8940 - recall: 0.9934 - auc: 0.9991 - prc: 0.9913 - val_loss: 0.3508 - val_tp: 708.0000 - val_fp: 386.0000 - val_tn: 8320.0000 - val_fn: 435.0000 - val_accuracy: 0.9166 - val_precision: 0.6472 - val_recall: 0.6194 - val_auc: 0.8876 - val_prc: 0.6582\n",
      "Epoch 41/512\n",
      "20/20 [==============================] - 1s 54ms/step - loss: 0.0329 - tp: 4510.0000 - fp: 557.0000 - tn: 34313.0000 - fn: 15.0000 - accuracy: 0.9855 - precision: 0.8901 - recall: 0.9967 - auc: 0.9993 - prc: 0.9928 - val_loss: 0.3559 - val_tp: 690.0000 - val_fp: 386.0000 - val_tn: 8320.0000 - val_fn: 453.0000 - val_accuracy: 0.9148 - val_precision: 0.6413 - val_recall: 0.6037 - val_auc: 0.8867 - val_prc: 0.6532\n",
      "Epoch 42/512\n",
      "20/20 [==============================] - 1s 46ms/step - loss: 0.0337 - tp: 4503.0000 - fp: 504.0000 - tn: 34366.0000 - fn: 22.0000 - accuracy: 0.9866 - precision: 0.8993 - recall: 0.9951 - auc: 0.9992 - prc: 0.9930 - val_loss: 0.3558 - val_tp: 702.0000 - val_fp: 404.0000 - val_tn: 8302.0000 - val_fn: 441.0000 - val_accuracy: 0.9142 - val_precision: 0.6347 - val_recall: 0.6142 - val_auc: 0.8881 - val_prc: 0.6547\n",
      "Epoch 43/512\n",
      "20/20 [==============================] - 1s 44ms/step - loss: 0.0330 - tp: 4507.0000 - fp: 524.0000 - tn: 34346.0000 - fn: 18.0000 - accuracy: 0.9862 - precision: 0.8958 - recall: 0.9960 - auc: 0.9993 - prc: 0.9938 - val_loss: 0.3627 - val_tp: 698.0000 - val_fp: 386.0000 - val_tn: 8320.0000 - val_fn: 445.0000 - val_accuracy: 0.9156 - val_precision: 0.6439 - val_recall: 0.6107 - val_auc: 0.8822 - val_prc: 0.6517\n",
      "Epoch 44/512\n",
      "20/20 [==============================] - 1s 46ms/step - loss: 0.0291 - tp: 4512.0000 - fp: 446.0000 - tn: 34424.0000 - fn: 13.0000 - accuracy: 0.9883 - precision: 0.9100 - recall: 0.9971 - auc: 0.9995 - prc: 0.9951 - val_loss: 0.3637 - val_tp: 694.0000 - val_fp: 378.0000 - val_tn: 8328.0000 - val_fn: 449.0000 - val_accuracy: 0.9160 - val_precision: 0.6474 - val_recall: 0.6072 - val_auc: 0.8834 - val_prc: 0.6547\n",
      "Epoch 45/512\n",
      "20/20 [==============================] - 1s 46ms/step - loss: 0.0293 - tp: 4504.0000 - fp: 466.0000 - tn: 34404.0000 - fn: 21.0000 - accuracy: 0.9876 - precision: 0.9062 - recall: 0.9954 - auc: 0.9994 - prc: 0.9943 - val_loss: 0.3678 - val_tp: 700.0000 - val_fp: 361.0000 - val_tn: 8345.0000 - val_fn: 443.0000 - val_accuracy: 0.9184 - val_precision: 0.6598 - val_recall: 0.6124 - val_auc: 0.8812 - val_prc: 0.6547\n",
      "Epoch 46/512\n",
      "20/20 [==============================] - 1s 46ms/step - loss: 0.0312 - tp: 4501.0000 - fp: 461.0000 - tn: 34409.0000 - fn: 24.0000 - accuracy: 0.9877 - precision: 0.9071 - recall: 0.9947 - auc: 0.9993 - prc: 0.9946 - val_loss: 0.3775 - val_tp: 713.0000 - val_fp: 385.0000 - val_tn: 8321.0000 - val_fn: 430.0000 - val_accuracy: 0.9173 - val_precision: 0.6494 - val_recall: 0.6238 - val_auc: 0.8831 - val_prc: 0.6538\n",
      "Epoch 47/512\n",
      "20/20 [==============================] - 1s 46ms/step - loss: 0.0300 - tp: 4503.0000 - fp: 466.0000 - tn: 34404.0000 - fn: 22.0000 - accuracy: 0.9876 - precision: 0.9062 - recall: 0.9951 - auc: 0.9993 - prc: 0.9928 - val_loss: 0.3791 - val_tp: 705.0000 - val_fp: 376.0000 - val_tn: 8330.0000 - val_fn: 438.0000 - val_accuracy: 0.9174 - val_precision: 0.6522 - val_recall: 0.6168 - val_auc: 0.8802 - val_prc: 0.6559\n",
      "Restoring model weights from the end of the best epoch.\n",
      "Epoch 00047: early stopping\n"
     ]
    }
   ],
   "source": [
    "weighted_model = make_model()\n",
    "\n",
    "weighted_history = weighted_model.fit(\n",
    "    train_features,\n",
    "    train_labels,\n",
    "    batch_size=BATCH_SIZE,\n",
    "    epochs=EPOCHS,\n",
    "    callbacks=[early_stopping],\n",
    "    validation_data=(val_features, val_labels),\n",
    "    # The class weights go here\n",
    "    class_weight=class_weight)"
   ]
  },
  {
   "cell_type": "markdown",
   "metadata": {
    "id": "9eafb1f2"
   },
   "source": [
    "## Resampled data:"
   ]
  },
  {
   "cell_type": "code",
   "execution_count": 34,
   "metadata": {
    "colab": {
     "base_uri": "https://localhost:8080/"
    },
    "id": "c79eae6d",
    "outputId": "1a538645-eda7-4213-d582-c559b21e7797"
   },
   "outputs": [
    {
     "data": {
      "text/plain": [
       "(34870, 1503)"
      ]
     },
     "execution_count": 34,
     "metadata": {},
     "output_type": "execute_result"
    }
   ],
   "source": [
    "pos_features = train_features[bool_train_labels]\n",
    "neg_features = train_features[~bool_train_labels]\n",
    "\n",
    "pos_labels = train_labels[bool_train_labels]\n",
    "neg_labels = train_labels[~bool_train_labels]\n",
    "\n",
    "neg_features.shape"
   ]
  },
  {
   "cell_type": "code",
   "execution_count": 35,
   "metadata": {
    "id": "0f136e5d"
   },
   "outputs": [
    {
     "data": {
      "text/plain": [
       "(34870, 1503)"
      ]
     },
     "execution_count": 35,
     "metadata": {},
     "output_type": "execute_result"
    }
   ],
   "source": [
    "ids = np.arange(len(pos_features))\n",
    "choices = np.random.choice(ids, len(neg_features))\n",
    "\n",
    "res_pos_features = pos_features[choices]\n",
    "res_pos_labels = pos_labels[choices]\n",
    "\n",
    "res_pos_features.shape"
   ]
  },
  {
   "cell_type": "code",
   "execution_count": 36,
   "metadata": {
    "id": "5e07ca29"
   },
   "outputs": [
    {
     "data": {
      "text/plain": [
       "(69740, 1503)"
      ]
     },
     "execution_count": 36,
     "metadata": {},
     "output_type": "execute_result"
    }
   ],
   "source": [
    "resampled_features = np.concatenate([res_pos_features, neg_features], axis=0)\n",
    "resampled_labels = np.concatenate([res_pos_labels, neg_labels], axis=0)\n",
    "\n",
    "order = np.arange(len(resampled_labels))\n",
    "np.random.shuffle(order)\n",
    "resampled_features = resampled_features[order]\n",
    "resampled_labels = resampled_labels[order]\n",
    "\n",
    "resampled_features.shape"
   ]
  },
  {
   "cell_type": "code",
   "execution_count": 37,
   "metadata": {
    "id": "fb60a929"
   },
   "outputs": [],
   "source": [
    "BUFFER_SIZE = 100000\n",
    "\n",
    "def make_ds(features, labels):\n",
    "    ds = tf.data.Dataset.from_tensor_slices((features, labels))#.cache()\n",
    "    ds = ds.shuffle(BUFFER_SIZE).repeat()\n",
    "    return ds\n",
    "\n",
    "\"\"\"\n",
    "pos_features_tensor = tf.convert_to_tensor(pos_features, dtype=tf.int64)\n",
    "pos_labels_tensor = tf.convert_to_tensor(pos_labels, dtype=tf.int64)\n",
    "\n",
    "neg_features_tensor = tf.convert_to_tensor(neg_features, dtype=tf.int64)\n",
    "neg_labels_tensor = tf.convert_to_tensor(neg_labels, dtype=tf.int64)\n",
    "\"\"\"\n",
    "\n",
    "pos_ds = make_ds(pos_features, pos_labels)\n",
    "neg_ds = make_ds(neg_features, neg_labels)"
   ]
  },
  {
   "cell_type": "code",
   "execution_count": 38,
   "metadata": {
    "id": "2e2bdd37"
   },
   "outputs": [],
   "source": [
    "resampled_ds = tf.data.experimental.sample_from_datasets([pos_ds, neg_ds], weights=[0.5, 0.5])\n",
    "resampled_ds = resampled_ds.batch(BATCH_SIZE).prefetch(2)\n"
   ]
  },
  {
   "cell_type": "code",
   "execution_count": 39,
   "metadata": {
    "id": "8e0a3331"
   },
   "outputs": [
    {
     "name": "stdout",
     "output_type": "stream",
     "text": [
      "0.49853516\n"
     ]
    }
   ],
   "source": [
    "for features, label in resampled_ds.take(1):\n",
    "    print(label.numpy().mean())"
   ]
  },
  {
   "cell_type": "code",
   "execution_count": 40,
   "metadata": {
    "id": "486527a8"
   },
   "outputs": [
    {
     "data": {
      "text/plain": [
       "43.0"
      ]
     },
     "execution_count": 40,
     "metadata": {},
     "output_type": "execute_result"
    }
   ],
   "source": [
    "resampled_steps_per_epoch = np.ceil(2.0*neg/BATCH_SIZE)\n",
    "resampled_steps_per_epoch"
   ]
  },
  {
   "cell_type": "code",
   "execution_count": 41,
   "metadata": {
    "id": "69fc1e9c"
   },
   "outputs": [
    {
     "name": "stdout",
     "output_type": "stream",
     "text": [
      "Epoch 1/5120\n",
      "20/20 [==============================] - 5s 134ms/step - loss: 0.5376 - tp: 16886.0000 - fp: 6508.0000 - tn: 22614.0000 - fn: 4801.0000 - accuracy: 0.7774 - precision: 0.7218 - recall: 0.7786 - auc: 0.8610 - prc: 0.8167 - val_loss: 0.3397 - val_tp: 865.0000 - val_fp: 1064.0000 - val_tn: 7642.0000 - val_fn: 278.0000 - val_accuracy: 0.8637 - val_precision: 0.4484 - val_recall: 0.7568 - val_auc: 0.8967 - val_prc: 0.6383\n",
      "Epoch 2/5120\n",
      "20/20 [==============================] - 2s 89ms/step - loss: 0.3101 - tp: 17839.0000 - fp: 2735.0000 - tn: 17778.0000 - fn: 2608.0000 - accuracy: 0.8696 - precision: 0.8671 - recall: 0.8725 - auc: 0.9418 - prc: 0.9354 - val_loss: 0.3147 - val_tp: 889.0000 - val_fp: 960.0000 - val_tn: 7746.0000 - val_fn: 254.0000 - val_accuracy: 0.8767 - val_precision: 0.4808 - val_recall: 0.7778 - val_auc: 0.9061 - val_prc: 0.6493\n",
      "Epoch 3/5120\n",
      "20/20 [==============================] - 2s 88ms/step - loss: 0.2417 - tp: 18961.0000 - fp: 2261.0000 - tn: 18147.0000 - fn: 1591.0000 - accuracy: 0.9060 - precision: 0.8935 - recall: 0.9226 - auc: 0.9645 - prc: 0.9567 - val_loss: 0.2897 - val_tp: 852.0000 - val_fp: 811.0000 - val_tn: 7895.0000 - val_fn: 291.0000 - val_accuracy: 0.8881 - val_precision: 0.5123 - val_recall: 0.7454 - val_auc: 0.9049 - val_prc: 0.6530\n",
      "Epoch 4/5120\n",
      "20/20 [==============================] - 2s 91ms/step - loss: 0.2012 - tp: 19246.0000 - fp: 1812.0000 - tn: 18653.0000 - fn: 1249.0000 - accuracy: 0.9253 - precision: 0.9140 - recall: 0.9391 - auc: 0.9750 - prc: 0.9681 - val_loss: 0.2816 - val_tp: 842.0000 - val_fp: 753.0000 - val_tn: 7953.0000 - val_fn: 301.0000 - val_accuracy: 0.8930 - val_precision: 0.5279 - val_recall: 0.7367 - val_auc: 0.9078 - val_prc: 0.6623\n",
      "Epoch 5/5120\n",
      "20/20 [==============================] - 2s 89ms/step - loss: 0.1795 - tp: 19383.0000 - fp: 1657.0000 - tn: 18932.0000 - fn: 988.0000 - accuracy: 0.9354 - precision: 0.9212 - recall: 0.9515 - auc: 0.9795 - prc: 0.9727 - val_loss: 0.2737 - val_tp: 818.0000 - val_fp: 696.0000 - val_tn: 8010.0000 - val_fn: 325.0000 - val_accuracy: 0.8963 - val_precision: 0.5403 - val_recall: 0.7157 - val_auc: 0.9074 - val_prc: 0.6620\n",
      "Epoch 6/5120\n",
      "20/20 [==============================] - 2s 88ms/step - loss: 0.1530 - tp: 19991.0000 - fp: 1361.0000 - tn: 18866.0000 - fn: 742.0000 - accuracy: 0.9487 - precision: 0.9363 - recall: 0.9642 - auc: 0.9848 - prc: 0.9802 - val_loss: 0.2762 - val_tp: 814.0000 - val_fp: 689.0000 - val_tn: 8017.0000 - val_fn: 329.0000 - val_accuracy: 0.8966 - val_precision: 0.5416 - val_recall: 0.7122 - val_auc: 0.9072 - val_prc: 0.6624\n",
      "Epoch 7/5120\n",
      "20/20 [==============================] - 2s 109ms/step - loss: 0.1402 - tp: 19791.0000 - fp: 1262.0000 - tn: 19315.0000 - fn: 592.0000 - accuracy: 0.9547 - precision: 0.9401 - recall: 0.9710 - auc: 0.9868 - prc: 0.9815 - val_loss: 0.2709 - val_tp: 789.0000 - val_fp: 607.0000 - val_tn: 8099.0000 - val_fn: 354.0000 - val_accuracy: 0.9024 - val_precision: 0.5652 - val_recall: 0.6903 - val_auc: 0.9057 - val_prc: 0.6641\n",
      "Epoch 8/5120\n",
      "20/20 [==============================] - 2s 116ms/step - loss: 0.1213 - tp: 20143.0000 - fp: 1095.0000 - tn: 19262.0000 - fn: 460.0000 - accuracy: 0.9620 - precision: 0.9484 - recall: 0.9777 - auc: 0.9900 - prc: 0.9865 - val_loss: 0.2740 - val_tp: 789.0000 - val_fp: 605.0000 - val_tn: 8101.0000 - val_fn: 354.0000 - val_accuracy: 0.9026 - val_precision: 0.5660 - val_recall: 0.6903 - val_auc: 0.9059 - val_prc: 0.6667\n",
      "Epoch 9/5120\n",
      "20/20 [==============================] - 2s 89ms/step - loss: 0.1106 - tp: 20220.0000 - fp: 1057.0000 - tn: 19340.0000 - fn: 343.0000 - accuracy: 0.9658 - precision: 0.9503 - recall: 0.9833 - auc: 0.9918 - prc: 0.9890 - val_loss: 0.2744 - val_tp: 767.0000 - val_fp: 552.0000 - val_tn: 8154.0000 - val_fn: 376.0000 - val_accuracy: 0.9058 - val_precision: 0.5815 - val_recall: 0.6710 - val_auc: 0.9039 - val_prc: 0.6643\n",
      "Epoch 10/5120\n",
      "20/20 [==============================] - 2s 89ms/step - loss: 0.0983 - tp: 20423.0000 - fp: 938.0000 - tn: 19327.0000 - fn: 272.0000 - accuracy: 0.9705 - precision: 0.9561 - recall: 0.9869 - auc: 0.9933 - prc: 0.9912 - val_loss: 0.2743 - val_tp: 759.0000 - val_fp: 521.0000 - val_tn: 8185.0000 - val_fn: 384.0000 - val_accuracy: 0.9081 - val_precision: 0.5930 - val_recall: 0.6640 - val_auc: 0.9039 - val_prc: 0.6705\n",
      "Epoch 11/5120\n",
      "20/20 [==============================] - 2s 90ms/step - loss: 0.0863 - tp: 20162.0000 - fp: 757.0000 - tn: 19810.0000 - fn: 231.0000 - accuracy: 0.9759 - precision: 0.9638 - recall: 0.9887 - auc: 0.9949 - prc: 0.9932 - val_loss: 0.2790 - val_tp: 754.0000 - val_fp: 508.0000 - val_tn: 8198.0000 - val_fn: 389.0000 - val_accuracy: 0.9089 - val_precision: 0.5975 - val_recall: 0.6597 - val_auc: 0.9036 - val_prc: 0.6683\n",
      "Epoch 12/5120\n",
      "20/20 [==============================] - 2s 89ms/step - loss: 0.0836 - tp: 20041.0000 - fp: 791.0000 - tn: 19918.0000 - fn: 210.0000 - accuracy: 0.9756 - precision: 0.9620 - recall: 0.9896 - auc: 0.9949 - prc: 0.9928 - val_loss: 0.2801 - val_tp: 736.0000 - val_fp: 465.0000 - val_tn: 8241.0000 - val_fn: 407.0000 - val_accuracy: 0.9115 - val_precision: 0.6128 - val_recall: 0.6439 - val_auc: 0.9020 - val_prc: 0.6699\n",
      "Epoch 13/5120\n",
      "20/20 [==============================] - 2s 90ms/step - loss: 0.0728 - tp: 20268.0000 - fp: 647.0000 - tn: 19872.0000 - fn: 173.0000 - accuracy: 0.9800 - precision: 0.9691 - recall: 0.9915 - auc: 0.9963 - prc: 0.9952 - val_loss: 0.2877 - val_tp: 736.0000 - val_fp: 479.0000 - val_tn: 8227.0000 - val_fn: 407.0000 - val_accuracy: 0.9100 - val_precision: 0.6058 - val_recall: 0.6439 - val_auc: 0.9020 - val_prc: 0.6667\n",
      "Epoch 14/5120\n",
      "20/20 [==============================] - 2s 90ms/step - loss: 0.0663 - tp: 20327.0000 - fp: 575.0000 - tn: 19939.0000 - fn: 119.0000 - accuracy: 0.9831 - precision: 0.9725 - recall: 0.9942 - auc: 0.9969 - prc: 0.9956 - val_loss: 0.2909 - val_tp: 733.0000 - val_fp: 448.0000 - val_tn: 8258.0000 - val_fn: 410.0000 - val_accuracy: 0.9129 - val_precision: 0.6207 - val_recall: 0.6413 - val_auc: 0.8988 - val_prc: 0.6742\n",
      "Epoch 15/5120\n",
      "20/20 [==============================] - 2s 89ms/step - loss: 0.0621 - tp: 20650.0000 - fp: 583.0000 - tn: 19587.0000 - fn: 140.0000 - accuracy: 0.9823 - precision: 0.9725 - recall: 0.9933 - auc: 0.9974 - prc: 0.9967 - val_loss: 0.2964 - val_tp: 717.0000 - val_fp: 432.0000 - val_tn: 8274.0000 - val_fn: 426.0000 - val_accuracy: 0.9129 - val_precision: 0.6240 - val_recall: 0.6273 - val_auc: 0.8984 - val_prc: 0.6693\n",
      "Epoch 16/5120\n",
      "20/20 [==============================] - 2s 89ms/step - loss: 0.0586 - tp: 20340.0000 - fp: 481.0000 - tn: 20026.0000 - fn: 113.0000 - accuracy: 0.9855 - precision: 0.9769 - recall: 0.9945 - auc: 0.9973 - prc: 0.9963 - val_loss: 0.3004 - val_tp: 715.0000 - val_fp: 423.0000 - val_tn: 8283.0000 - val_fn: 428.0000 - val_accuracy: 0.9136 - val_precision: 0.6283 - val_recall: 0.6255 - val_auc: 0.8977 - val_prc: 0.6722\n",
      "Epoch 17/5120\n",
      "20/20 [==============================] - 2s 90ms/step - loss: 0.0532 - tp: 20568.0000 - fp: 499.0000 - tn: 19808.0000 - fn: 85.0000 - accuracy: 0.9857 - precision: 0.9763 - recall: 0.9959 - auc: 0.9981 - prc: 0.9977 - val_loss: 0.3047 - val_tp: 708.0000 - val_fp: 398.0000 - val_tn: 8308.0000 - val_fn: 435.0000 - val_accuracy: 0.9154 - val_precision: 0.6401 - val_recall: 0.6194 - val_auc: 0.8965 - val_prc: 0.6691\n",
      "Epoch 18/5120\n",
      "20/20 [==============================] - 2s 92ms/step - loss: 0.0487 - tp: 20332.0000 - fp: 444.0000 - tn: 20094.0000 - fn: 90.0000 - accuracy: 0.9870 - precision: 0.9786 - recall: 0.9956 - auc: 0.9984 - prc: 0.9979 - val_loss: 0.3091 - val_tp: 711.0000 - val_fp: 395.0000 - val_tn: 8311.0000 - val_fn: 432.0000 - val_accuracy: 0.9160 - val_precision: 0.6429 - val_recall: 0.6220 - val_auc: 0.8934 - val_prc: 0.6688\n",
      "Epoch 19/5120\n",
      "20/20 [==============================] - 2s 90ms/step - loss: 0.0465 - tp: 20297.0000 - fp: 409.0000 - tn: 20178.0000 - fn: 76.0000 - accuracy: 0.9882 - precision: 0.9802 - recall: 0.9963 - auc: 0.9984 - prc: 0.9978 - val_loss: 0.3119 - val_tp: 704.0000 - val_fp: 387.0000 - val_tn: 8319.0000 - val_fn: 439.0000 - val_accuracy: 0.9161 - val_precision: 0.6453 - val_recall: 0.6159 - val_auc: 0.8955 - val_prc: 0.6705\n"
     ]
    },
    {
     "name": "stdout",
     "output_type": "stream",
     "text": [
      "Epoch 20/5120\n",
      "20/20 [==============================] - 2s 88ms/step - loss: 0.0417 - tp: 20466.0000 - fp: 377.0000 - tn: 20051.0000 - fn: 66.0000 - accuracy: 0.9892 - precision: 0.9819 - recall: 0.9968 - auc: 0.9988 - prc: 0.9984 - val_loss: 0.3179 - val_tp: 700.0000 - val_fp: 366.0000 - val_tn: 8340.0000 - val_fn: 443.0000 - val_accuracy: 0.9179 - val_precision: 0.6567 - val_recall: 0.6124 - val_auc: 0.8931 - val_prc: 0.6667\n",
      "Epoch 21/5120\n",
      "20/20 [==============================] - 2s 89ms/step - loss: 0.0397 - tp: 20372.0000 - fp: 334.0000 - tn: 20186.0000 - fn: 68.0000 - accuracy: 0.9902 - precision: 0.9839 - recall: 0.9967 - auc: 0.9989 - prc: 0.9985 - val_loss: 0.3259 - val_tp: 694.0000 - val_fp: 374.0000 - val_tn: 8332.0000 - val_fn: 449.0000 - val_accuracy: 0.9164 - val_precision: 0.6498 - val_recall: 0.6072 - val_auc: 0.8920 - val_prc: 0.6651\n",
      "Epoch 22/5120\n",
      "20/20 [==============================] - 2s 89ms/step - loss: 0.0382 - tp: 20434.0000 - fp: 350.0000 - tn: 20115.0000 - fn: 61.0000 - accuracy: 0.9900 - precision: 0.9832 - recall: 0.9970 - auc: 0.9990 - prc: 0.9987 - val_loss: 0.3324 - val_tp: 674.0000 - val_fp: 356.0000 - val_tn: 8350.0000 - val_fn: 469.0000 - val_accuracy: 0.9162 - val_precision: 0.6544 - val_recall: 0.5897 - val_auc: 0.8878 - val_prc: 0.6656\n",
      "Epoch 23/5120\n",
      "20/20 [==============================] - 2s 89ms/step - loss: 0.0343 - tp: 20464.0000 - fp: 302.0000 - tn: 20148.0000 - fn: 46.0000 - accuracy: 0.9915 - precision: 0.9855 - recall: 0.9978 - auc: 0.9992 - prc: 0.9991 - val_loss: 0.3397 - val_tp: 688.0000 - val_fp: 362.0000 - val_tn: 8344.0000 - val_fn: 455.0000 - val_accuracy: 0.9170 - val_precision: 0.6552 - val_recall: 0.6019 - val_auc: 0.8869 - val_prc: 0.6617\n",
      "Epoch 24/5120\n",
      "20/20 [==============================] - 2s 89ms/step - loss: 0.0351 - tp: 20429.0000 - fp: 339.0000 - tn: 20135.0000 - fn: 57.0000 - accuracy: 0.9903 - precision: 0.9837 - recall: 0.9972 - auc: 0.9991 - prc: 0.9988 - val_loss: 0.3433 - val_tp: 676.0000 - val_fp: 325.0000 - val_tn: 8381.0000 - val_fn: 467.0000 - val_accuracy: 0.9196 - val_precision: 0.6753 - val_recall: 0.5914 - val_auc: 0.8855 - val_prc: 0.6643\n",
      "Epoch 25/5120\n",
      "20/20 [==============================] - 2s 87ms/step - loss: 0.0319 - tp: 20402.0000 - fp: 295.0000 - tn: 20203.0000 - fn: 60.0000 - accuracy: 0.9913 - precision: 0.9857 - recall: 0.9971 - auc: 0.9993 - prc: 0.9992 - val_loss: 0.3497 - val_tp: 679.0000 - val_fp: 337.0000 - val_tn: 8369.0000 - val_fn: 464.0000 - val_accuracy: 0.9187 - val_precision: 0.6683 - val_recall: 0.5941 - val_auc: 0.8831 - val_prc: 0.6623\n",
      "Epoch 26/5120\n",
      "20/20 [==============================] - 2s 93ms/step - loss: 0.0301 - tp: 20523.0000 - fp: 256.0000 - tn: 20119.0000 - fn: 62.0000 - accuracy: 0.9922 - precision: 0.9877 - recall: 0.9970 - auc: 0.9994 - prc: 0.9992 - val_loss: 0.3561 - val_tp: 678.0000 - val_fp: 335.0000 - val_tn: 8371.0000 - val_fn: 465.0000 - val_accuracy: 0.9188 - val_precision: 0.6693 - val_recall: 0.5932 - val_auc: 0.8806 - val_prc: 0.6600\n",
      "Epoch 27/5120\n",
      "20/20 [==============================] - 2s 94ms/step - loss: 0.0298 - tp: 20511.0000 - fp: 265.0000 - tn: 20135.0000 - fn: 49.0000 - accuracy: 0.9923 - precision: 0.9872 - recall: 0.9976 - auc: 0.9994 - prc: 0.9992 - val_loss: 0.3624 - val_tp: 656.0000 - val_fp: 336.0000 - val_tn: 8370.0000 - val_fn: 487.0000 - val_accuracy: 0.9164 - val_precision: 0.6613 - val_recall: 0.5739 - val_auc: 0.8788 - val_prc: 0.6565\n",
      "Epoch 28/5120\n",
      "20/20 [==============================] - 2s 90ms/step - loss: 0.0262 - tp: 20359.0000 - fp: 215.0000 - tn: 20343.0000 - fn: 43.0000 - accuracy: 0.9937 - precision: 0.9895 - recall: 0.9979 - auc: 0.9996 - prc: 0.9995 - val_loss: 0.3672 - val_tp: 673.0000 - val_fp: 343.0000 - val_tn: 8363.0000 - val_fn: 470.0000 - val_accuracy: 0.9175 - val_precision: 0.6624 - val_recall: 0.5888 - val_auc: 0.8805 - val_prc: 0.6556\n",
      "Epoch 29/5120\n",
      "20/20 [==============================] - 2s 90ms/step - loss: 0.0262 - tp: 20392.0000 - fp: 242.0000 - tn: 20280.0000 - fn: 46.0000 - accuracy: 0.9930 - precision: 0.9883 - recall: 0.9977 - auc: 0.9996 - prc: 0.9995 - val_loss: 0.3712 - val_tp: 665.0000 - val_fp: 310.0000 - val_tn: 8396.0000 - val_fn: 478.0000 - val_accuracy: 0.9200 - val_precision: 0.6821 - val_recall: 0.5818 - val_auc: 0.8779 - val_prc: 0.6543\n",
      "Epoch 30/5120\n",
      "20/20 [==============================] - 2s 91ms/step - loss: 0.0245 - tp: 20461.0000 - fp: 193.0000 - tn: 20246.0000 - fn: 60.0000 - accuracy: 0.9938 - precision: 0.9907 - recall: 0.9971 - auc: 0.9995 - prc: 0.9994 - val_loss: 0.3749 - val_tp: 674.0000 - val_fp: 330.0000 - val_tn: 8376.0000 - val_fn: 469.0000 - val_accuracy: 0.9189 - val_precision: 0.6713 - val_recall: 0.5897 - val_auc: 0.8809 - val_prc: 0.6508\n",
      "Epoch 31/5120\n",
      "20/20 [==============================] - 2s 90ms/step - loss: 0.0234 - tp: 20548.0000 - fp: 194.0000 - tn: 20174.0000 - fn: 44.0000 - accuracy: 0.9942 - precision: 0.9906 - recall: 0.9979 - auc: 0.9997 - prc: 0.9996 - val_loss: 0.3826 - val_tp: 653.0000 - val_fp: 315.0000 - val_tn: 8391.0000 - val_fn: 490.0000 - val_accuracy: 0.9183 - val_precision: 0.6746 - val_recall: 0.5713 - val_auc: 0.8791 - val_prc: 0.6558\n",
      "Epoch 32/5120\n",
      "20/20 [==============================] - 2s 90ms/step - loss: 0.0219 - tp: 20471.0000 - fp: 196.0000 - tn: 20260.0000 - fn: 33.0000 - accuracy: 0.9944 - precision: 0.9905 - recall: 0.9984 - auc: 0.9997 - prc: 0.9996 - val_loss: 0.3877 - val_tp: 663.0000 - val_fp: 321.0000 - val_tn: 8385.0000 - val_fn: 480.0000 - val_accuracy: 0.9187 - val_precision: 0.6738 - val_recall: 0.5801 - val_auc: 0.8764 - val_prc: 0.6489\n",
      "Epoch 33/5120\n",
      "20/20 [==============================] - 2s 89ms/step - loss: 0.0216 - tp: 20407.0000 - fp: 172.0000 - tn: 20343.0000 - fn: 38.0000 - accuracy: 0.9949 - precision: 0.9916 - recall: 0.9981 - auc: 0.9997 - prc: 0.9997 - val_loss: 0.3885 - val_tp: 659.0000 - val_fp: 325.0000 - val_tn: 8381.0000 - val_fn: 484.0000 - val_accuracy: 0.9179 - val_precision: 0.6697 - val_recall: 0.5766 - val_auc: 0.8764 - val_prc: 0.6511\n",
      "Epoch 34/5120\n",
      "20/20 [==============================] - 2s 90ms/step - loss: 0.0200 - tp: 20456.0000 - fp: 193.0000 - tn: 20275.0000 - fn: 36.0000 - accuracy: 0.9944 - precision: 0.9907 - recall: 0.9982 - auc: 0.9998 - prc: 0.9998 - val_loss: 0.3923 - val_tp: 658.0000 - val_fp: 300.0000 - val_tn: 8406.0000 - val_fn: 485.0000 - val_accuracy: 0.9203 - val_precision: 0.6868 - val_recall: 0.5757 - val_auc: 0.8764 - val_prc: 0.6536\n",
      "Epoch 35/5120\n",
      "20/20 [==============================] - 2s 90ms/step - loss: 0.0205 - tp: 20505.0000 - fp: 167.0000 - tn: 20250.0000 - fn: 38.0000 - accuracy: 0.9950 - precision: 0.9919 - recall: 0.9982 - auc: 0.9997 - prc: 0.9996 - val_loss: 0.3993 - val_tp: 652.0000 - val_fp: 314.0000 - val_tn: 8392.0000 - val_fn: 491.0000 - val_accuracy: 0.9183 - val_precision: 0.6749 - val_recall: 0.5704 - val_auc: 0.8758 - val_prc: 0.6505\n",
      "Epoch 36/5120\n",
      "20/20 [==============================] - 2s 92ms/step - loss: 0.0188 - tp: 20337.0000 - fp: 165.0000 - tn: 20419.0000 - fn: 39.0000 - accuracy: 0.9950 - precision: 0.9920 - recall: 0.9981 - auc: 0.9998 - prc: 0.9998 - val_loss: 0.4081 - val_tp: 650.0000 - val_fp: 310.0000 - val_tn: 8396.0000 - val_fn: 493.0000 - val_accuracy: 0.9185 - val_precision: 0.6771 - val_recall: 0.5687 - val_auc: 0.8737 - val_prc: 0.6484\n",
      "Epoch 37/5120\n",
      "20/20 [==============================] - 2s 91ms/step - loss: 0.0186 - tp: 20358.0000 - fp: 160.0000 - tn: 20403.0000 - fn: 39.0000 - accuracy: 0.9951 - precision: 0.9922 - recall: 0.9981 - auc: 0.9998 - prc: 0.9997 - val_loss: 0.4138 - val_tp: 642.0000 - val_fp: 304.0000 - val_tn: 8402.0000 - val_fn: 501.0000 - val_accuracy: 0.9183 - val_precision: 0.6786 - val_recall: 0.5617 - val_auc: 0.8741 - val_prc: 0.6473\n",
      "Epoch 38/5120\n",
      "20/20 [==============================] - 2s 92ms/step - loss: 0.0189 - tp: 20251.0000 - fp: 159.0000 - tn: 20508.0000 - fn: 42.0000 - accuracy: 0.9951 - precision: 0.9922 - recall: 0.9979 - auc: 0.9998 - prc: 0.9997 - val_loss: 0.4204 - val_tp: 647.0000 - val_fp: 305.0000 - val_tn: 8401.0000 - val_fn: 496.0000 - val_accuracy: 0.9187 - val_precision: 0.6796 - val_recall: 0.5661 - val_auc: 0.8723 - val_prc: 0.6474\n",
      "Restoring model weights from the end of the best epoch.\n",
      "Epoch 00038: early stopping\n"
     ]
    }
   ],
   "source": [
    "resampled_model = make_model()\n",
    "\n",
    "# Reset the bias to zero, since this dataset is balanced.\n",
    "output_layer = resampled_model.layers[-1] \n",
    "output_layer.bias.assign([0])\n",
    "\n",
    "val_ds = tf.data.Dataset.from_tensor_slices((val_features, val_labels)).cache()\n",
    "val_ds = val_ds.batch(BATCH_SIZE).prefetch(2) \n",
    "\n",
    "resampled_history = resampled_model.fit(\n",
    "    resampled_ds,\n",
    "    # These are not real epochs (added to avoid overfitting)\n",
    "    steps_per_epoch=20,\n",
    "    epochs=10*EPOCHS,\n",
    "    callbacks=[early_stopping],\n",
    "    validation_data=val_ds)"
   ]
  },
  {
   "cell_type": "markdown",
   "metadata": {
    "id": "54b239cb"
   },
   "source": [
    "# Evaluate training history:\n",
    "\n",
    "- Accuracy is the percentage of examples correctly classified\n",
    "- Precision is the percentage of predicted positives that were correctly classified\n",
    "- Recall is the percentage of actual positives that were correctly classified\n",
    "- AUC refers to the Area Under the Curve of a Receiver Operating Characteristic curve (ROC-AUC). This metric is equal to the probability that a classifier will rank a random positive sample higher than a random negative sample.\n",
    "- AUPRC refers to Area Under the Curve of the Precision-Recall Curve. This metric computes precision-recall pairs for different probability thresholds."
   ]
  },
  {
   "cell_type": "code",
   "execution_count": 42,
   "metadata": {
    "id": "04b8ae41"
   },
   "outputs": [],
   "source": [
    "def plot_metrics(history, label, color):\n",
    "    metrics = ['loss', 'prc', 'precision', 'recall']\n",
    "    # metrics = ['tp', 'fp', 'tn', 'fn']\n",
    "    for n, metric in enumerate(metrics):\n",
    "        name = metric.replace(\"_\",\" \").capitalize()\n",
    "        plt.subplot(2,2,n+1)\n",
    "        plt.plot(history.epoch, history.history[metric], color=colors[color], label=label + ' Train')\n",
    "        plt.plot(history.epoch, history.history['val_'+metric],\n",
    "                 color=colors[color], linestyle=\"--\", label=label + ' Val')\n",
    "        plt.xlabel('Epoch')\n",
    "        plt.ylabel(name)\n",
    "        if metric == 'loss':\n",
    "            plt.ylim([0, plt.ylim()[1]])\n",
    "        elif metric == 'auc':\n",
    "            plt.ylim([0.8,1])\n",
    "        elif metric in ['tp', 'fp', 'fn']:\n",
    "            plt.ylim([0, pos])\n",
    "        elif metric in ['tn']:\n",
    "            plt.ylim([0, neg])\n",
    "        else:\n",
    "            plt.ylim([0,1])\n",
    "\n",
    "    plt.legend()"
   ]
  },
  {
   "cell_type": "code",
   "execution_count": 43,
   "metadata": {
    "id": "6933c6a9"
   },
   "outputs": [
    {
     "name": "stderr",
     "output_type": "stream",
     "text": [
      "<ipython-input-42-58354aa332a2>:6: MatplotlibDeprecationWarning: Adding an axes using the same arguments as a previous axes currently reuses the earlier instance.  In a future version, a new instance will always be created and returned.  Meanwhile, this warning can be suppressed, and the future behavior ensured, by passing a unique label to each axes instance.\n",
      "  plt.subplot(2,2,n+1)\n"
     ]
    },
    {
     "data": {
      "image/png": "[encoded data removed]",
      "text/plain": [
       "<Figure size 864x720 with 4 Axes>"
      ]
     },
     "metadata": {
      "needs_background": "light"
     },
     "output_type": "display_data"
    }
   ],
   "source": [
    "plot_metrics(weighted_history, \"weighted\", 1)\n",
    "plot_metrics(resampled_history, \"resampled\", 2)\n",
    "\n",
    "plt.savefig(f\"{model_path}/metrics_{model_name}.png\")"
   ]
  },
  {
   "cell_type": "markdown",
   "metadata": {
    "id": "e99f30a6"
   },
   "source": [
    "## Evaluate classification:"
   ]
  },
  {
   "cell_type": "code",
   "execution_count": 44,
   "metadata": {
    "id": "203486a8"
   },
   "outputs": [],
   "source": [
    "def plot_cm(labels, predictions, p=0.5):\n",
    "    cm = confusion_matrix(labels, predictions > p)\n",
    "    plt.figure(figsize=(5,5))\n",
    "    sns.heatmap(cm, annot=True, fmt=\"d\")\n",
    "    plt.title('Confusion matrix @{:.2f}'.format(p))\n",
    "    plt.ylabel('Actual label')\n",
    "    plt.xlabel('Predicted label')"
   ]
  },
  {
   "cell_type": "code",
   "execution_count": 45,
   "metadata": {
    "id": "f2747d2e"
   },
   "outputs": [],
   "source": [
    "train_predictions_weighted = weighted_model.predict(train_features, batch_size=BATCH_SIZE)\n",
    "test_predictions_weighted = weighted_model.predict(test_features, batch_size=BATCH_SIZE)"
   ]
  },
  {
   "cell_type": "code",
   "execution_count": 46,
   "metadata": {
    "id": "8574d024"
   },
   "outputs": [
    {
     "name": "stdout",
     "output_type": "stream",
     "text": [
      "loss :  0.10333564132452011\n",
      "tp :  1036.0\n",
      "fp :  225.0\n",
      "tn :  8502.0\n",
      "fn :  86.0\n",
      "accuracy :  0.9684231877326965\n",
      "precision :  0.8215701580047607\n",
      "recall :  0.9233511686325073\n",
      "auc :  0.9798551797866821\n",
      "prc :  0.9365643858909607\n",
      "\n"
     ]
    },
    {
     "data": {
      "image/png": "[encoded data removed]",
      "text/plain": [
       "<Figure size 360x360 with 2 Axes>"
      ]
     },
     "metadata": {
      "needs_background": "light"
     },
     "output_type": "display_data"
    }
   ],
   "source": [
    "weighted_results = weighted_model.evaluate(test_features, test_labels,\n",
    "                                           batch_size=BATCH_SIZE, verbose=0)\n",
    "for name, value in zip(weighted_model.metrics_names, weighted_results):\n",
    "    print(name, ': ', value)\n",
    "print()\n",
    "\n",
    "plot_cm(test_labels, test_predictions_weighted)\n",
    "\n",
    "plt.savefig(f\"{model_path}/weighted_classification_{model_name}.png\")"
   ]
  },
  {
   "cell_type": "code",
   "execution_count": 47,
   "metadata": {
    "id": "f9b8ab93"
   },
   "outputs": [],
   "source": [
    "train_predictions_resampled = resampled_model.predict(train_features, batch_size=BATCH_SIZE)\n",
    "test_predictions_resampled = resampled_model.predict(test_features, batch_size=BATCH_SIZE)"
   ]
  },
  {
   "cell_type": "code",
   "execution_count": 48,
   "metadata": {
    "id": "c4e8bb82",
    "scrolled": false
   },
   "outputs": [
    {
     "name": "stdout",
     "output_type": "stream",
     "text": [
      "loss :  0.1046687513589859\n",
      "tp :  1041.0\n",
      "fp :  227.0\n",
      "tn :  8500.0\n",
      "fn :  81.0\n",
      "accuracy :  0.9687277674674988\n",
      "precision :  0.8209779262542725\n",
      "recall :  0.9278075098991394\n",
      "auc :  0.979301393032074\n",
      "prc :  0.9318169951438904\n",
      "\n"
     ]
    },
    {
     "data": {
      "image/png": "[encoded data removed]",
      "text/plain": [
       "<Figure size 360x360 with 2 Axes>"
      ]
     },
     "metadata": {
      "needs_background": "light"
     },
     "output_type": "display_data"
    }
   ],
   "source": [
    "resampled_results = resampled_model.evaluate(test_features, test_labels,\n",
    "                                             batch_size=BATCH_SIZE, verbose=0)\n",
    "for name, value in zip(resampled_model.metrics_names, resampled_results):\n",
    "    print(name, ': ', value)\n",
    "print()\n",
    "\n",
    "plot_cm(test_labels, test_predictions_resampled)\n",
    "plt.savefig(f\"{model_path}/resampled_classification_{model_name}.png\")"
   ]
  },
  {
   "cell_type": "markdown",
   "metadata": {
    "id": "d1c085c1"
   },
   "source": [
    "## Plot the ROC (receiver operating characteristic) Curve:"
   ]
  },
  {
   "cell_type": "code",
   "execution_count": 49,
   "metadata": {
    "id": "2960bb92"
   },
   "outputs": [],
   "source": [
    "def plot_roc(name, labels, predictions, **kwargs):\n",
    "    fp, tp, _ = sklearn.metrics.roc_curve(labels, predictions)\n",
    "\n",
    "    plt.plot(100*fp, 100*tp, label=name, linewidth=2, **kwargs)\n",
    "    plt.xlabel('False positives [%]')\n",
    "    plt.ylabel('True positives [%]')\n",
    "    plt.xlim([-0.5,25])\n",
    "    plt.ylim([75,100.5])\n",
    "    plt.grid(True)\n",
    "    ax = plt.gca()\n",
    "    ax.set_aspect('equal')"
   ]
  },
  {
   "cell_type": "code",
   "execution_count": 50,
   "metadata": {
    "id": "f236bb3b"
   },
   "outputs": [
    {
     "data": {
      "image/png": "[encoded data removed]",
      "text/plain": [
       "<Figure size 864x720 with 1 Axes>"
      ]
     },
     "metadata": {
      "needs_background": "light"
     },
     "output_type": "display_data"
    }
   ],
   "source": [
    "plot_roc(\"Train Weighted\", train_labels, train_predictions_weighted, color=colors[1])\n",
    "plot_roc(\"Test Weighted\", test_labels, test_predictions_weighted, color=colors[1], linestyle='--')\n",
    "\n",
    "plot_roc(\"Train Resampled\", train_labels, train_predictions_resampled, color=colors[2])\n",
    "plot_roc(\"Test Resampled\", test_labels, test_predictions_resampled, color=colors[2], linestyle='--')\n",
    "\n",
    "plt.legend(loc='upper left')\n",
    "plt.savefig(f\"{model_path}/roc_{model_name}.png\")"
   ]
  },
  {
   "cell_type": "markdown",
   "metadata": {
    "id": "5f5ad9cf"
   },
   "source": [
    "## Plot the PRC (precision-recall curve)"
   ]
  },
  {
   "cell_type": "code",
   "execution_count": 51,
   "metadata": {
    "id": "c6dfa776"
   },
   "outputs": [],
   "source": [
    "def plot_prc(name, labels, predictions, **kwargs):\n",
    "    precision, recall, _ = sklearn.metrics.precision_recall_curve(labels, predictions)\n",
    "\n",
    "    plt.plot(precision, recall, label=name, linewidth=2, **kwargs)\n",
    "    plt.xlabel('Recall')\n",
    "    plt.ylabel('Precision')\n",
    "    plt.grid(True)\n",
    "    ax = plt.gca()\n",
    "    ax.set_aspect('equal')"
   ]
  },
  {
   "cell_type": "code",
   "execution_count": 52,
   "metadata": {
    "id": "b670d5aa"
   },
   "outputs": [
    {
     "data": {
      "image/png": "[encoded data removed]",
      "text/plain": [
       "<Figure size 864x720 with 1 Axes>"
      ]
     },
     "metadata": {
      "needs_background": "light"
     },
     "output_type": "display_data"
    }
   ],
   "source": [
    "plot_prc(\"Train Weighted\", train_labels, train_predictions_weighted, color=colors[1])\n",
    "plot_prc(\"Test Weighted\", test_labels, test_predictions_weighted, color=colors[1], linestyle='--')\n",
    "\n",
    "plot_prc(\"Train Resampled\", train_labels, train_predictions_resampled, color=colors[2])\n",
    "plot_prc(\"Test Resampled\", test_labels, test_predictions_resampled, color=colors[2], linestyle='--')\n",
    "\n",
    "plt.legend(loc='upper right')\n",
    "plt.savefig(f\"{model_path}/prc_{model_name}.png\")"
   ]
  },
  {
   "cell_type": "code",
   "execution_count": 53,
   "metadata": {
    "id": "8dd88406"
   },
   "outputs": [
    {
     "name": "stdout",
     "output_type": "stream",
     "text": [
      "INFO:tensorflow:Assets written to: ../../RoboDocData/95/df95_n256/weighted_model_df95_n256/assets\n"
     ]
    }
   ],
   "source": [
    "weighted_model.save(f\"{model_path}/weighted_model_{model_name}\")"
   ]
  },
  {
   "cell_type": "code",
   "execution_count": 54,
   "metadata": {
    "id": "1s5u93c0AVmX"
   },
   "outputs": [
    {
     "name": "stdout",
     "output_type": "stream",
     "text": [
      "INFO:tensorflow:Assets written to: ../../RoboDocData/95/df95_n256/resampled_model_df95_n256/assets\n"
     ]
    }
   ],
   "source": [
    "resampled_model.save(f\"{model_path}/resampled_model_{model_name}\")"
   ]
  },
  {
   "cell_type": "code",
   "execution_count": null,
   "metadata": {},
   "outputs": [],
   "source": []
  },
  {
   "cell_type": "code",
   "execution_count": null,
   "metadata": {},
   "outputs": [],
   "source": []
  }
 ],
 "metadata": {
  "colab": {
   "collapsed_sections": [],
   "name": "train_death_classification.ipynb",
   "provenance": [],
   "toc_visible": true
  },
  "kernelspec": {
   "display_name": "Python 3",
   "language": "python",
   "name": "python3"
  },
  "language_info": {
   "codemirror_mode": {
    "name": "ipython",
    "version": 3
   },
   "file_extension": ".py",
   "mimetype": "text/x-python",
   "name": "python",
   "nbconvert_exporter": "python",
   "pygments_lexer": "ipython3",
   "version": "3.9.4"
  }
 },
 "nbformat": 4,
 "nbformat_minor": 1
}
