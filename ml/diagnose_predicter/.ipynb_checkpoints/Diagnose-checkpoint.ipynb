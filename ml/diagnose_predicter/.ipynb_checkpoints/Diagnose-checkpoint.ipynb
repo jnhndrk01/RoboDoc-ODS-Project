{
 "cells": [
  {
   "cell_type": "code",
   "execution_count": 90,
   "metadata": {},
   "outputs": [],
   "source": [
    "import joblib\n",
    "import numpy as np"
   ]
  },
  {
   "cell_type": "code",
   "execution_count": 91,
   "metadata": {},
   "outputs": [],
   "source": [
    "mlb = joblib.load(\"/Users/yousef/Downloads/RobotDoc-main/encoders/diagnoses_enc.pkl\")\n",
    "clf = load('/Users/yousef/Downloads/RobotDoc-main/encoders/LogReg_pipeline.joblib') "
   ]
  },
  {
   "cell_type": "code",
   "execution_count": 92,
   "metadata": {},
   "outputs": [],
   "source": [
    "def diagnose (s = ''):\n",
    "    \n",
    "    \"\"\"\n",
    "    Returns  5 diagnoses with the highest prediction\n",
    "\n",
    "    Args:\n",
    "        s: a string of space separated symptoms\n",
    "        \"78009 78820 79902\"\n",
    "    Returns:\n",
    "        a tuple of 5 diagnoses\n",
    "        \"\"('25000', '4019', '41401', '42731', '4280')\"\"\n",
    "    \"\"\" \n",
    "\n",
    "    ans = clf.predict_proba([s])\n",
    "    ans = ans[0]\n",
    "    idx = (-ans).argsort()[:5]\n",
    "    ans = np.zeros(4121)\n",
    "    ans[idx] = 1\n",
    "    ans = ans.astype(int)\n",
    "    ans = np.reshape(ans, (1, 4121))\n",
    "    ans = mlb.inverse_transform(ans)[0]\n",
    "    return ans\n",
    "\n",
    "\n"
   ]
  },
  {
   "cell_type": "code",
   "execution_count": 93,
   "metadata": {},
   "outputs": [
    {
     "data": {
      "text/plain": [
       "('0389', '2762', '51881', '5849', '99592')"
      ]
     },
     "execution_count": 93,
     "metadata": {},
     "output_type": "execute_result"
    }
   ],
   "source": [
    "diagnose(\"78552 78959\")"
   ]
  },
  {
   "cell_type": "code",
   "execution_count": 1,
   "metadata": {},
   "outputs": [
    {
     "name": "stdout",
     "output_type": "stream",
     "text": [
      "0\n",
      "1\n",
      "2\n",
      "3\n",
      "4\n"
     ]
    }
   ],
   "source": []
  },
  {
   "cell_type": "code",
   "execution_count": null,
   "metadata": {},
   "outputs": [],
   "source": []
  }
 ],
 "metadata": {
  "kernelspec": {
   "display_name": "Python 3",
   "language": "python",
   "name": "python3"
  },
  "language_info": {
   "codemirror_mode": {
    "name": "ipython",
    "version": 3
   },
   "file_extension": ".py",
   "mimetype": "text/x-python",
   "name": "python",
   "nbconvert_exporter": "python",
   "pygments_lexer": "ipython3",
   "version": "3.9.4"
  }
 },
 "nbformat": 4,
 "nbformat_minor": 4
}
