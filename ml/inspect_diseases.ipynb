{
 "cells": [
  {
   "cell_type": "code",
   "execution_count": 1,
   "metadata": {
    "executionInfo": {
     "elapsed": 335,
     "status": "ok",
     "timestamp": 1622554376628,
     "user": {
      "displayName": "Julius Wachlin",
      "photoUrl": "https://lh3.googleusercontent.com/a-/AOh14Ghocx-xoUa07R5W0E0D5PY2L5tRof1hzp6zidzE=s64",
      "userId": "16487439078493893689"
     },
     "user_tz": -120
    },
    "id": "Q4deeYJA0ppI"
   },
   "outputs": [
    {
     "name": "stderr",
     "output_type": "stream",
     "text": [
      "Matplotlib created a temporary config/cache directory at /tmp/matplotlib-2w5ejx31 because the default path (/home/juliuswa/installed/apache-tomcat-9.0.30/.config/matplotlib) is not a writable directory; it is highly recommended to set the MPLCONFIGDIR environment variable to a writable directory, in particular to speed up the import of Matplotlib and to better support multiprocessing.\n"
     ]
    }
   ],
   "source": [
    "import tensorflow as tf\n",
    "from tensorflow import keras\n",
    "\n",
    "import os\n",
    "from os import path\n",
    "\n",
    "import tempfile\n",
    "import time\n",
    "\n",
    "import matplotlib as mpl\n",
    "import matplotlib.pyplot as plt\n",
    "import numpy as np\n",
    "\n",
    "import pandas as pd\n",
    "pd.options.mode.chained_assignment = None\n",
    "\n",
    "import seaborn as sns\n",
    "\n",
    "import sklearn\n",
    "\n",
    "from sklearn.metrics import confusion_matrix\n",
    "from sklearn.model_selection import train_test_split\n",
    "from sklearn.preprocessing import StandardScaler"
   ]
  },
  {
   "cell_type": "code",
   "execution_count": 2,
   "metadata": {
    "executionInfo": {
     "elapsed": 1085,
     "status": "ok",
     "timestamp": 1622554377985,
     "user": {
      "displayName": "Julius Wachlin",
      "photoUrl": "https://lh3.googleusercontent.com/a-/AOh14Ghocx-xoUa07R5W0E0D5PY2L5tRof1hzp6zidzE=s64",
      "userId": "16487439078493893689"
     },
     "user_tz": -120
    },
    "id": "-C29ecwECdnW"
   },
   "outputs": [],
   "source": [
    "df_name = \"95\"\n",
    "\n",
    "data_path = \"../../RoboDocData\"\n",
    "df_path = f\"{data_path}/{df_name}\"\n",
    "\n",
    "df = pd.read_pickle(f\"{df_path}/dataframe_{df_name}.pkl\")"
   ]
  },
  {
   "cell_type": "code",
   "execution_count": 5,
   "metadata": {
    "executionInfo": {
     "elapsed": 46028,
     "status": "ok",
     "timestamp": 1622554434721,
     "user": {
      "displayName": "Julius Wachlin",
      "photoUrl": "https://lh3.googleusercontent.com/a-/AOh14Ghocx-xoUa07R5W0E0D5PY2L5tRof1hzp6zidzE=s64",
      "userId": "16487439078493893689"
     },
     "user_tz": -120
    },
    "id": "yIDW12UG2yWS"
   },
   "outputs": [],
   "source": [
    "with open(f\"{data_path}/disease_matrix_raw.npy\", 'rb') as f:\n",
    "    disease_matrix_raw = np.load(f)\n",
    "\n",
    "with open(f\"{data_path}/symptoms_dict.npy\", 'rb') as f:\n",
    "    symptoms_dict = np.load(f)\n",
    "\n",
    "with open(f\"{data_path}/patient_history_dict.npy\", 'rb') as f:\n",
    "    patient_history_dict = np.load(f)\n",
    "\n",
    "with open(f\"{data_path}/diagnoses_dict.npy\", 'rb') as f:\n",
    "    diagnoses_dict = np.load(f)  "
   ]
  },
  {
   "cell_type": "code",
   "execution_count": 7,
   "metadata": {
    "colab": {
     "base_uri": "https://localhost:8080/"
    },
    "executionInfo": {
     "elapsed": 298,
     "status": "ok",
     "timestamp": 1622555283325,
     "user": {
      "displayName": "Julius Wachlin",
      "photoUrl": "https://lh3.googleusercontent.com/a-/AOh14Ghocx-xoUa07R5W0E0D5PY2L5tRof1hzp6zidzE=s64",
      "userId": "16487439078493893689"
     },
     "user_tz": -120
    },
    "id": "CWm5vHRP0oaV",
    "outputId": "d7c7d6c2-1604-438a-fa23-408e644b467d"
   },
   "outputs": [
    {
     "name": "stdout",
     "output_type": "stream",
     "text": [
      "11.280858494588722\n"
     ]
    }
   ],
   "source": [
    "print(np.mean(np.sum(disease_matrix_raw, axis=1)))"
   ]
  },
  {
   "cell_type": "code",
   "execution_count": 8,
   "metadata": {
    "executionInfo": {
     "elapsed": 301,
     "status": "ok",
     "timestamp": 1622554438419,
     "user": {
      "displayName": "Julius Wachlin",
      "photoUrl": "https://lh3.googleusercontent.com/a-/AOh14Ghocx-xoUa07R5W0E0D5PY2L5tRof1hzp6zidzE=s64",
      "userId": "16487439078493893689"
     },
     "user_tz": -120
    },
    "id": "mNivrC-b8GD4"
   },
   "outputs": [],
   "source": [
    "def index_to_name(i: int):\n",
    "    lenS = len(symptoms_dict)\n",
    "    lenPH = len(patient_history_dict)\n",
    "    lenD = len(diagnoses_dict)\n",
    "\n",
    "    if i < lenS:\n",
    "        return f\"Symptom: {symptoms_dict[i][1]}\"\n",
    "    elif (i > lenS) & (i < lenS + lenPH):\n",
    "        return f\"History: {patient_history_dict[i - lenS][1]}\"\n",
    "    elif i > lenS + lenPH:\n",
    "        return f\"Disease: {diagnoses_dict[i - (lenS + lenPH)][1]}\"\n",
    "    else:\n",
    "        return \"Invalid index\"\n",
    "\n",
    "def index_to_description(i: int):\n",
    "    lenS = len(symptoms_dict)\n",
    "    lenPH = len(patient_history_dict)\n",
    "    lenD = len(diagnoses_dict)\n",
    "\n",
    "    if i < lenS:\n",
    "        return f\"{symptoms_dict[i][2]}\"\n",
    "    elif (i > lenS) & (i < lenS + lenPH):\n",
    "        return f\"{patient_history_dict[i - lenS][2]}\"\n",
    "    elif i > lenS + lenPH:\n",
    "        return f\"{diagnoses_dict[i - (lenS + lenPH)][2]}\"\n",
    "    else:\n",
    "        return \"Invalid index\"\n",
    "\n",
    "def print_disease_frequency(disease_matrix, n):\n",
    "    diseases_count = np.sum(disease_matrix, axis=0)\n",
    "    index_sorted = np.argsort(diseases_count)[::-1]\n",
    "\n",
    "    for i in range(0, n):\n",
    "        print(f\"#{i+1:03}: {index_to_name(index_sorted[i])}, {int(diseases_count[index_sorted[i]])} times\")\n",
    "\n",
    "def print_disease_mortality(death_diseases, alive_diseases, n, lower_bound):\n",
    "    death_diseases_count = np.sum(death_diseases, axis=0)\n",
    "    alive_diseases_count = np.sum(alive_diseases, axis=0)\n",
    "\n",
    "    diseases_mortality = np.zeros_like(death_diseases_count)\n",
    "    for d in range(len(death_diseases_count)):\n",
    "        if death_diseases_count[d] + alive_diseases_count[d] > lower_bound:\n",
    "            diseases_mortality[d] = death_diseases_count[d] / max(death_diseases_count[d] + alive_diseases_count[d], 1)\n",
    "\n",
    "    index_sorted = np.argsort(diseases_mortality)[::-1]\n",
    "\n",
    "    for i in range(0, n):\n",
    "        print(f\"#{i+1:03}: {index_to_name(index_sorted[i])}\")\n",
    "        print(f\"\\t{index_to_description(index_sorted[i])}\")\n",
    "        print(f\"\\tkilled {int(death_diseases_count[index_sorted[i]])} people, {int(alive_diseases_count[index_sorted[i]])} survived\")\n",
    "        print(f\"\\t=> {diseases_mortality[index_sorted[i]]:.2f} mortality\")"
   ]
  },
  {
   "cell_type": "code",
   "execution_count": 10,
   "metadata": {
    "colab": {
     "base_uri": "https://localhost:8080/"
    },
    "executionInfo": {
     "elapsed": 593,
     "status": "ok",
     "timestamp": 1622554706981,
     "user": {
      "displayName": "Julius Wachlin",
      "photoUrl": "https://lh3.googleusercontent.com/a-/AOh14Ghocx-xoUa07R5W0E0D5PY2L5tRof1hzp6zidzE=s64",
      "userId": "16487439078493893689"
     },
     "user_tz": -120
    },
    "id": "BlFm3yD0CTVP",
    "outputId": "b3d1ccef-fd78-42fc-81f0-b774fa96a565"
   },
   "outputs": [
    {
     "name": "stdout",
     "output_type": "stream",
     "text": [
      "#001: Disease: Subdural hem-deep coma\n",
      "\t\"Subdural hemorrhage following injury without mention of open intracranial wound\n",
      "\tkilled 41 people, 3 survived\n",
      "\t=> 0.93 mortality\n",
      "#002: Disease: Subarach hem-deep coma\n",
      "\t\"Subarachnoid hemorrhage following injury without mention of open intracranial wound\n",
      "\tkilled 36 people, 4 survived\n",
      "\t=> 0.90 mortality\n",
      "#003: Disease: Cl skl base fx-deep coma\n",
      "\t\"Closed fracture of base of skull with subarachnoid\n",
      "\tkilled 35 people, 7 survived\n",
      "\t=> 0.83 mortality\n",
      "#004: Disease: Brain hem NEC-deep coma\n",
      "\t\"Other and unspecified intracranial hemorrhage following injury without mention of open intracranial wound\n",
      "\tkilled 23 people, 5 survived\n",
      "\t=> 0.82 mortality\n",
      "#005: History: Encountr palliative care\n",
      "\tEncounter for palliative care\n",
      "\tkilled 731 people, 282 survived\n",
      "\t=> 0.72 mortality\n",
      "#006: Symptom: Coma\n",
      "\tComa\n",
      "\tkilled 98 people, 51 survived\n",
      "\t=> 0.66 mortality\n",
      "#007: Disease: Defibrination syndrome\n",
      "\tDefibrination syndrome\n",
      "\tkilled 258 people, 181 survived\n",
      "\t=> 0.59 mortality\n",
      "#008: Disease: Anoxic brain damage\n",
      "\tAnoxic brain damage\n",
      "\tkilled 260 people, 186 survived\n",
      "\t=> 0.58 mortality\n",
      "#009: Disease: Cardiac arrest\n",
      "\tCardiac arrest\n",
      "\tkilled 720 people, 620 survived\n",
      "\t=> 0.54 mortality\n",
      "#010: Symptom: Nontrauma comp syn-abd\n",
      "\tNontraumatic compartment syndrome of abdomen\n",
      "\tkilled 32 people, 29 survived\n",
      "\t=> 0.52 mortality\n",
      "#011: Disease: Mycs fng unsp xtrndl org\n",
      "\t\"Mycosis fungoides\n",
      "\tkilled 11 people, 12 survived\n",
      "\t=> 0.48 mortality\n",
      "#012: Disease: Hpt B acte coma wo dlta\n",
      "\t\"Viral hepatitis B with hepatic coma\n",
      "\tkilled 10 people, 11 survived\n",
      "\t=> 0.48 mortality\n",
      "#013: Disease: \"Postop shock\n",
      "\t other\"\n",
      "\tkilled 10 people, 11 survived\n",
      "\t=> 0.48 mortality\n",
      "#014: Disease: Hepatorenal syndrome\n",
      "\tHepatorenal syndrome\n",
      "\tkilled 164 people, 181 survived\n",
      "\t=> 0.48 mortality\n",
      "#015: Disease: Acute necrosis of liver\n",
      "\tAcute and subacute necrosis of liver\n",
      "\tkilled 485 people, 573 survived\n",
      "\t=> 0.46 mortality\n",
      "#016: Disease: Pneum in aspergillosis\n",
      "\tPneumonia in aspergillosis\n",
      "\tkilled 26 people, 32 survived\n",
      "\t=> 0.45 mortality\n",
      "#017: Disease: Bronchopneumonia org NOS\n",
      "\t\"Bronchopneumonia\n",
      "\tkilled 26 people, 33 survived\n",
      "\t=> 0.44 mortality\n",
      "#018: Disease: SIRS-noninf w ac org dys\n",
      "\tSystemic inflammatory response syndrome due to noninfectious process with acute organ dysfunction\n",
      "\tkilled 51 people, 65 survived\n",
      "\t=> 0.44 mortality\n",
      "#019: Symptom: Malignant ascites\n",
      "\tMalignant ascites\n",
      "\tkilled 24 people, 31 survived\n",
      "\t=> 0.44 mortality\n",
      "#020: Symptom: Shock NOS\n",
      "\t\"Shock\n",
      "\tkilled 82 people, 109 survived\n",
      "\t=> 0.43 mortality\n"
     ]
    }
   ],
   "source": [
    "death_diseases = disease_matrix_raw[df.died_in_hospital == 1]\n",
    "alive_diseases = disease_matrix_raw[df.died_in_hospital == 0]\n",
    "\n",
    "print_disease_mortality(death_diseases, alive_diseases, 20, 20)"
   ]
  },
  {
   "cell_type": "code",
   "execution_count": null,
   "metadata": {
    "executionInfo": {
     "elapsed": 39,
     "status": "aborted",
     "timestamp": 1622553110290,
     "user": {
      "displayName": "Julius Wachlin",
      "photoUrl": "https://lh3.googleusercontent.com/a-/AOh14Ghocx-xoUa07R5W0E0D5PY2L5tRof1hzp6zidzE=s64",
      "userId": "16487439078493893689"
     },
     "user_tz": -120
    },
    "id": "iMy1rGpVPIyW"
   },
   "outputs": [],
   "source": []
  }
 ],
 "metadata": {
  "colab": {
   "authorship_tag": "ABX9TyOClQey8Ss/VOPONvFvjquO",
   "collapsed_sections": [],
   "name": "inspect_diseases.ipynb",
   "provenance": []
  },
  "kernelspec": {
   "display_name": "Python 3",
   "language": "python",
   "name": "python3"
  },
  "language_info": {
   "codemirror_mode": {
    "name": "ipython",
    "version": 3
   },
   "file_extension": ".py",
   "mimetype": "text/x-python",
   "name": "python",
   "nbconvert_exporter": "python",
   "pygments_lexer": "ipython3",
   "version": "3.9.4"
  }
 },
 "nbformat": 4,
 "nbformat_minor": 1
}
