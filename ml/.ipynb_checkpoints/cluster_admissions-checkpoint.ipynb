{
 "cells": [
  {
   "cell_type": "code",
   "execution_count": 1,
   "id": "8c9f4bf6",
   "metadata": {},
   "outputs": [
    {
     "name": "stderr",
     "output_type": "stream",
     "text": [
      "Matplotlib created a temporary config/cache directory at /tmp/matplotlib-l0o5eqe3 because the default path (/home/juliuswa/installed/apache-tomcat-9.0.30/.config/matplotlib) is not a writable directory; it is highly recommended to set the MPLCONFIGDIR environment variable to a writable directory, in particular to speed up the import of Matplotlib and to better support multiprocessing.\n"
     ]
    }
   ],
   "source": [
    "import tensorflow as tf\n",
    "from tensorflow import keras\n",
    "\n",
    "import os\n",
    "from os import path\n",
    "\n",
    "import tempfile\n",
    "import time\n",
    "\n",
    "import matplotlib as mpl\n",
    "import matplotlib.pyplot as plt\n",
    "import numpy as np\n",
    "\n",
    "import pandas as pd\n",
    "pd.options.mode.chained_assignment = None\n",
    "\n",
    "import seaborn as sns\n",
    "from mpl_toolkits.mplot3d import Axes3D\n",
    "\n",
    "import sklearn\n",
    "\n",
    "from sklearn.metrics import confusion_matrix\n",
    "from sklearn.model_selection import train_test_split\n",
    "from sklearn.preprocessing import StandardScaler"
   ]
  },
  {
   "cell_type": "code",
   "execution_count": 2,
   "id": "73d18600",
   "metadata": {},
   "outputs": [],
   "source": [
    "df_name = \"95\"\n",
    "\n",
    "data_path = \"../../RoboDocData\"\n",
    "df_path = f\"{data_path}/{df_name}\"\n",
    "\n",
    "df = pd.read_pickle(f\"{df_path}/dataframe_{df_name}.pkl\")"
   ]
  },
  {
   "cell_type": "code",
   "execution_count": 3,
   "id": "b8496510",
   "metadata": {},
   "outputs": [
    {
     "data": {
      "text/plain": [
       "Index([                    'age',                  'gender',\n",
       "                        'weight',                  'height',\n",
       "                'heartrate_mean',           'heartrate_min',\n",
       "                 'heartrate_max',             'meanbp_mean',\n",
       "                    'meanbp_min',              'meanbp_max',\n",
       "       ...\n",
       "                            1432,                      1433,\n",
       "                            1434,                      1435,\n",
       "                            1436,                      1437,\n",
       "       'length_of_stay_hospital',      'length_of_stay_icu',\n",
       "                 'days_to_death',        'died_in_hospital'],\n",
       "      dtype='object', length=1507)"
      ]
     },
     "execution_count": 3,
     "metadata": {},
     "output_type": "execute_result"
    }
   ],
   "source": [
    "df.columns"
   ]
  },
  {
   "cell_type": "code",
   "execution_count": 4,
   "id": "9e542f0f",
   "metadata": {},
   "outputs": [
    {
     "data": {
      "text/plain": [
       "0        0\n",
       "1        0\n",
       "2        0\n",
       "3        1\n",
       "4        0\n",
       "        ..\n",
       "49244    1\n",
       "49245    1\n",
       "49246    1\n",
       "49247    1\n",
       "49248    1\n",
       "Name: died_in_hospital, Length: 49249, dtype: object"
      ]
     },
     "execution_count": 4,
     "metadata": {},
     "output_type": "execute_result"
    }
   ],
   "source": [
    "df.pop(\"length_of_stay_hospital\")\n",
    "length_of_stay_icu = df.pop(\"length_of_stay_icu\")\n",
    "days_to_death = df.pop(\"days_to_death\")\n",
    "died_in_hospital = df.pop(\"died_in_hospital\")\n"
   ]
  },
  {
   "cell_type": "code",
   "execution_count": null,
   "id": "4150a80a",
   "metadata": {},
   "outputs": [],
   "source": []
  }
 ],
 "metadata": {
  "kernelspec": {
   "display_name": "Python 3",
   "language": "python",
   "name": "python3"
  },
  "language_info": {
   "codemirror_mode": {
    "name": "ipython",
    "version": 3
   },
   "file_extension": ".py",
   "mimetype": "text/x-python",
   "name": "python",
   "nbconvert_exporter": "python",
   "pygments_lexer": "ipython3",
   "version": "3.9.4"
  }
 },
 "nbformat": 4,
 "nbformat_minor": 5
}
